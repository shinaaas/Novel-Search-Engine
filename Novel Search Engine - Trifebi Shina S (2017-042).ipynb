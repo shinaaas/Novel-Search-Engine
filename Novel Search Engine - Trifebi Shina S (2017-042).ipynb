{
  "nbformat": 4,
  "nbformat_minor": 0,
  "metadata": {
    "colab": {
      "name": "Novel Search Engine - Trifebi Shina S (2017-042) .ipynb",
      "provenance": [],
      "collapsed_sections": []
    },
    "kernelspec": {
      "display_name": "Python 3",
      "name": "python3"
    }
  },
  "cells": [
    {
      "cell_type": "markdown",
      "metadata": {
        "id": "jmOIhdCouOms"
      },
      "source": [
        "# Temu Kembali Informasi - 7A\n",
        "**Trifebi Shina Sabrila (201710370311042)**"
      ]
    },
    {
      "cell_type": "markdown",
      "metadata": {
        "id": "s2m8HNOluN3i"
      },
      "source": [
        "#Crawling "
      ]
    },
    {
      "cell_type": "code",
      "metadata": {
        "id": "32z_gjdDspwW"
      },
      "source": [
        "import bs4 as bs #beautifulsoup\n",
        "import urllib.request"
      ],
      "execution_count": null,
      "outputs": []
    },
    {
      "cell_type": "code",
      "metadata": {
        "id": "lLOxtkP6K9i9"
      },
      "source": [
        "URLs = ['https://id.wikipedia.org/wiki/Matahari_(novel)',\n",
        "        'https://id.wikipedia.org/wiki/Kisah_Tanah_Jawa',\n",
        "        'http://bukureview.com/romance/review-buku-novel-always-and-forever-oleh-jenny-han/',\n",
        "        'https://id.wikipedia.org/wiki/Manusia_Setengah_Salmon',\n",
        "        'http://bukureview.com/romance/review-buku-novel-ps-still-love-oleh-jenny-han/',\n",
        "        'http://bukureview.com/novel/review-buku-novel-everything-everything-oleh-nicola-yoon/',\n",
        "        'https://id.wikipedia.org/wiki/Tiga_Sandera_Terakhir',\n",
        "        'http://bukureview.com/novel/review-buku-novel-god-game-oleh-danny-tobey/',\n",
        "        'http://bukureview.com/novel/review-buku-novel-lovely-wife/',\n",
        "        'http://bukureview.com/novel/review-buku-novel-love-split-world/',\n",
        "        'https://id.wikipedia.org/wiki/Divergent',\n",
        "        'https://rusnanianwar.com/2020/06/17/cantik-itu-luka-sebuah-review/',\n",
        "        'https://id.wikipedia.org/wiki/Bukan_Pasar_Malam',\n",
        "        'http://bukureview.com/novel/review-buku-novel-sun-also-star-oleh-nicola-yoon/',\n",
        "        'https://id.wikipedia.org/wiki/Romeo_dan_Julia'\n",
        "]"
      ],
      "execution_count": null,
      "outputs": []
    },
    {
      "cell_type": "code",
      "metadata": {
        "id": "JCB7EzJxLBIk"
      },
      "source": [
        "documents = [] #untuk nampung konten tiap URL \n",
        "for i in URLs:\n",
        "  crawling_url = urllib.request.urlopen(i) # ngebuka url/linknya\n",
        "  contents = crawling_url.read() # ngebaca data yg diambil dr url tadi\n",
        "  parsed_content = bs.BeautifulSoup(contents,'lxml') # content = markup/teks html, lxml = jenis parser (lebih cepat dan rapi)\n",
        "  paragraphs = parsed_content.find_all('p') # yang diambil paragraf saja (yang masuk dlm tag <p>)\n",
        "  content_text = \"\" # untuk nampung, perulangan u ngambil semua teks yg masuk tag p td\n",
        "  for p in paragraphs:\n",
        "    content_text += p.text\n",
        "  documents.append(content_text) #Setiap url yang kontennya sdh diambil, akan ditambahkan ke dalam list dokumen ini"
      ],
      "execution_count": null,
      "outputs": []
    },
    {
      "cell_type": "code",
      "metadata": {
        "id": "W4AlmFTeLEHT",
        "colab": {
          "base_uri": "https://localhost:8080/"
        },
        "outputId": "1be6bb9b-1ef6-4a64-f7a4-97dcce59aa71"
      },
      "source": [
        "documents"
      ],
      "execution_count": null,
      "outputs": [
        {
          "output_type": "execute_result",
          "data": {
            "text/plain": [
              "['Matahari adalah sebuah novel karya Tere Liye, novel ini adalah bagian ketiga dari seri Bumi/serial Dunia Paralel. Diterbitkan pertama kali oleh Gramedia Pustaka Utama tahun 2016.[1]\\nRaib, Ali, dan Seli dirundung duka atas tewasnya Ily, sahabat mereka, pada pertarungan di Klan Matahari. Tak hanya mereka, para kesatria Klan Bulan juga merasakan hal sama, sampai membuat Miss Selena tak bisa kembali ke Klan Bumi.\\n\\xa0 \\xa0 \\xa0Kepulangan mereka ke Klan Bumi disambut dengan tugas sebagaimana anak sekolah lainnya. Bahkan, Ali mendadak populer menjadi bintang lapangan pada pertandingan basket antar sekolah yang dicurigai Raib berbuat curang menyalahgunakan hasil eksperimen. Hingga babak final, tindakan tak sportif lawan tanding basket tim sekolah mereka memicu kemarahan Ali sampai hampir merubahnya jadi beruang (bisa jadi ini bentuk kekuatan Ali)\\n\\xa0 \\xa0 \\xa0Khawatir perubahan wujud Ali akan membuat heboh seisi lapangan, dengan kekuatan teleportasinya, Raib mencoba mencairkan keadaan. Di luar dugaan ternyata Ali lebih cepat diterbangkan oleh sebuah pesawat kapsul perak.\\n\\xa0 \\xa0 \\xa0Kejar-kejaran pun terjadi, mengantarkan Raib dan Seli ke tempat parkiran pesawat kapsul perak tersebut, basement rumah megah Ali. Kapsul perak ini ternyata buah eksperimen Ali. Ia namakan Ily sebagai dedikasi untuk sahabat mereka yang tewas menjadi pahlawan.\\n\\xa0 \\xa0 \\xa0Pengakuan meluncur dari mulut Ali, bahwa dia mempelajari pengetahuan-pengetahuan baru dari tabung perak pemberian Av. “Merchandise Gift” yang diberikan saat mereka pulang dari Klan Bulan. Tabung berisi soft copy seluruh arsip perpustakaan Klan Bulan tersebut menjadi mainan baru trio petualang.\\n\\xa0 \\xa0 \\xa0Darinya, Ali mempelajari teknologi Klan Bulan dan Klan Matahari, bahkan menemukan letak Klan Bintang. Antusiasme Ali tertodong untuk melakukan perjalanan ke Klan Bintang, yang jelas tak disepakati dua lainnya. Apalagi meminta Raib menggunakan Buku Kehidupan miliknya agar bisa ke sana. Jelas bagi Raib ini ide gila yang akan merusak amanat dari Miss Selena untuk tak mengotak-atiknya.\\n\\xa0 \\xa0 \\xa0Raib pun akhirnya mendapat pengakuan orangtuanya, bahwa dia yang sejak bayi menunjukkan keanehan, diadopsi karena takdir menghubungkan mereka jadi sebuah keluarga yang hangat. Kini orang tua Raib mengetahui tujuan “liburan” anaknya selamanya ini ternyata mengunjungi dunia paralel, termasuk kali ini petualangan menuju Klan Bintang.\\n\\xa0 \\xa0 \\xa0Dengan menggunakan Ily V.2, pesawat kapsul yang telah dimutakhirkan, tiga sahabat petualang ini menuju ke gua di tepi danau, yang menurut pindaian Ily V.2 menjadi lokasi mulut lorong kuno.\\n\\xa0 \\xa0 \\xa0Setelah berhasil mengalahkan ular penjaga mulut goa, tekad mereka terus diuji dengan bahaya-bahaya lainnya di lorong-lorong misterius tersbeut, serangan ratusan ular bawah tanah dan kelelawar raksasa di Padang Kristal menambah menarik perjalanan panjang mereka.\\n\\xa0 \\xa0 \\xa0Di Padang Kristal ini mereka terciduk penjaga lembah berseragam hitam. Meringkuk kepanasan dalam tubuh Ily, mereka digiring hingga sampai di Lembah Hijau. Faarazaraaf, pemimpin Lembah hijau menyambut mereka dengan pelayanan maksimal. Namun kehangatan ini tak bertahan lama, ketika pasukan bayangan datang dipimpin Marsekal Laar. Sekretaris Dewan Kota yang ikut dalam rombongan membuat kegaduhan di pondok Faar dengan membawa Raib, Ali, dan Seli ke kota Zaramaraz. Pengadilan mengancam mereka karena anak-anak muda ini memiliki kekuatan yang dilarang sesuai dekrit kota.\\n\\xa0 \\xa0 \\xa0Berkat granat EMP, mereka berhasil kabur dari pesawat saat akan mendarat di kota Zaramaraz. Atas bantuan Marsekal Lar, mereka melarikan diri menuju Restoran Lezalezel untuk menemui Sang Hantu.\\n\\xa0 \\xa0 \\xa0Kaar alias Sang Hantu menjadi perantara mereka menemui sang arsitek kota, Mer. Mer, memperlihatkan blue print tata kota, termasuk ruang Dewan Sekretaris Kota yang disinyalir menjadi tempat simpanan Buku Kehidupan milik Raib yang dicuri sang pemilik ruangan.\\n\\xa0 \\xa0 \\xa0Para pemilik kekuatan yang tersisa merangsek menuju kota. Faar membuat kericuhan di kota demi untuk mengalihkan perhatian tentara bintang agar tiga sahabat petualang bisa mengambil kembali Buku Kehidupan. Sayang, di detik terakhir, mereka tertangkap. Hingga terjadi perlawanan sengit sampai memaksa Ali berubah menjadi beruang yang memiliki kekuatan petir milik Seli dan teleportasi milik Raib. Kekuatan tak sebanding menyudutkan mereka hingga dijebloskan ke ruang isolasi menakutkan.\\n\\xa0 \\xa0 \\xa0Berkat motivasi dari Ali, Raib menemukan kekuatan yang mampu membebaskan mereka. Bahkan melawan balik Sekretaris Dewan Kota yang ternyata memiliki konspirasi untuk menghancurkan klan permukaan.\\n\\xa0 \\xa0 \\xa0Intrik demi kepentingan politik. Faar menangani secara khusus Sekretaris Dewan Kota. Perpisahan terjadi, ketika Buku Kehidupan terbuka, menjadi tujuan tiga sahabat petualang menuju para pemilik kekuatan di klan permukaan.\\n\\xa0 \\xa0 \\xa0Misi mereka berlanjut untuk mencari bantuan menghadapi armada tempur Klan Bintang. Petualangan Raib, Ali, dan Seli berakhir di Klan Bintang. Selanjutnya, perang dunia paralel ada di \\ndepan mata.[2]\\n\\n(2005)\\n',\n",
              " 'Kisah Tanah Jawa adalah buku awal yang ditulis oleh Kisah Tanah Jawa, yang diterbitkan oleh GagasMedia pada tahun 2018 berisi 250 halaman.[1] Seperti biasa Kisah Tanah Jawa menghadirkan konten yang cukup mistis berbanding lurus dengan fakta sejarah yang mereka usung. Menariknya fakta yang mereka usung juga memiliki daftar pustaka yang tertulis dibelakangnya. Jadi fakta sejarah yang mereka usung memang dapat ditelusuri kebenarannya. Buku ini berusaha untuk membuka selubung mitos dan mistis yang selama ini menjadi kasak kusuk di masyarakat.[2]\\nNapas tiang pancang berisi tentang kemistisan yang biasa dilakukan oleh pekerja tiang pancang, alias pegawai kontraktor bangunan yang biasa memberikan tumbal. Di topik ini diulas berbagai kejadian terkait tumbal. Untuk apa tumbal tersebut, berbagai cerita tentang tumbal pembangunan dan lain sebagainya. Tapi lagi-lagi cerita tersebut memang memiliki kronologis secara fakta sejarah. Memang tidak semua cerita disertakan tahun dan tempat. Jadi dapat dikatakan setengah mitos namun setengahnya lagi memang fakta.\\nDari judulnya memang terlihat lucu, namun jangan tanya dengan isi Bab ini, Karena dalam bab ini dibahas segala hal tentang kekuatan magis untuk membuat nikmay sebuah masakan yang dijual. Biasa disebut dengan \"penglaris\". Banyak cerita mengejutkan di bab ini, Kerapkali juga terjadi di tengah-tengah masyarakat jawa, jadi sangat relate dengan kehidupan pembaca (jika anda di Jawa).\\nIsi dari bab ini sesuai judulnya, berbagai pesugihan diulas sedemikian rupa sehingga dapat menjelaskan berbagai pesugihan yang dilakukan masyarakat di pulau Jawa. Sehingga pembaca buku ini yang biasanya melihat pesugihan hanya sekejap saja, diajak untuk melihat lebih dalam pesugihan.\\n\\n',\n",
              " 'Review Buku Novel Always and Forever oleh Jenny Han – Lara Jean memiliki hari hari yang indah dalam hidupnya sebagai senior dan semuanya terlihat begitu sempurna. Dia terlihat bahagia atas hubungan asmaranya dengan Peter Kavinsky, dan ayahnya juga akan menikah dengan tetangga mereka, bibi Rothschild. Lara Jean sangat senang dan bahagia dengan banyak hal. Terutama karena rencana pernikahan ayahnya, dan kepulangan Margot dari luar negeri.Perlu diperhatikan bahwa untuk anda yang belum membaca buku pertama yang berjudulkan Review Buku Novel To All the Boys I’ve Loved Before, dan buku kedua yang berjudulkan Review Buku Novel PS I Still Love You, bahwa review ini mengandung spoiler. Tapi kalau sudah baca, yah dilanjutkan, lol. Aku benar benar tidak mengharapkan adanya buku ketiga dari sekuel yang ditulis Jenny Han ini. Karena kupikir seri ini akan berakhir pada sekuel kedua. Tapi ternyata tidak, dan inilah buku ketiga yang akhirnya aku baca juga. Jadi bukunya menceritakan Jean dan Peter yang berencana akan pergi ke perguruan tinggi UVA bersama. Bagaimanapun juga ada saja masalah yang selalu bermunculan, Jean tidak mendapatkan beasiswa seperti yang telah lama diharapkannya, dan malahan Peterlah yang mendapatkan beasiswa dengan nilai ujian yang sangat bagus.Bagaimanapun juga, buku ketiga yang mengejutkanku ini sangat bagus daripada buku pertama dan keduanya. Saya berpendapat demikian karena sekuel ini sangat banyak penampilan Peter Kavinsky yang kusukai. Melihat kembali ulasan ulasan mengenai buku Jenny Han sebelumnya, saya tetap berpegang pada pendirian untuk tetap menyukai Peter di sekuel yang satu ini. Cerita cinta dalam sekuel ini memang mungkin kurang bagus dibandingkan dengan sekuel sebelumnya, namun entah mengapa novel ini membuatku seakan dihipnotis dan aku merasa bahwa aku sangat tenggelam di dalam buku ini dan tidak dapat melepaskan buku ini.Alur cerita dan permasalahan dalam buku ini terletak kepada transisi Jean dari sekolah menengah menuju ke perguruan tinggi. Dan untuk ending cerita dalam buku ini, sangat kunikmati tentang bagaimana hal ini berakhir. Aku berpikir bahwa buku ini memiliki poin dan nasihat tertentu yang dapat kita petik, seperti untuk para remaja remaja muda untuk bisa menentukan masa depan mereka sendiri dan tidak memilih hanya untuk kesenangan sementara. Namun harus kuakui bahwa akhir cerita ini sangat kabur. Tapi aku sendiri suka dengan ending seperti ini, karena aku jadi bisa berimajinasi dan membayangkan Jean dan Peter di perguruan tinggi, bersama sama pergi ke kampus dan pulang berbarengan. Semua itu terlintas di benakku bagaimana mereka akan berpacaran dan lain sebagainya. Namun hal yang tidak kuketahui adalah apakah hubungan Jean dan Peter akan bertahan selamanya atau tidak. Ada pepatah yang mengatakan, “There’s beauty in uncertainty”, dan itu jelas menggambarkan keindahan buku yang satu ini.Semenjak buku ini adalah sekuel yang terakhir, aku rasa ini saatnya mengucapkan selamat tinggal kepada pacar imajinasiku, Peter Kavinsky. Sangat banyak kenangan yang kau berikan yang mengingatkanku akan indahnya cinta di dunia yang busuk ini. Aku menyukai bagaimana Peter memperlakukan pacarnya, dan bagaimana dia berinteraksi dengan ayahnya ketika mereka bertemu, dan bagaimana dia bermain dengan Kitty (adik perempuan Jean), segala keromantisannya, dan bagaimana cara dia mencintai Jean.Setelah munculnya buku ini, aku berharap bahwa akan ada sekuel keempat (tolong jangan, aku tidak sanggup lagi). Yah pada akhirnya, buku ini dan sekuelnya pasti kurekomendasikan untuk mereka yang memang suka dengan kisah romantis. Namun satu hal yang harus anda pastikan adalah, anda harus membaca buku pertama dan kedua sebelum loncat membaca buku ketiga ini.Terima kasih sudah memberikan momen yang begitu indah dan memperkenalkan Peter kepadaku. Aku jadi ingin mencari cinta sejati juga setelah membaca buku ini. Ada yang mau kenalan tidak? :pSaya menantikan buku selanjutnya dari Jenny Han!Name * Email * Website  \\n\\n\\n\\n\\n\\n(adsbygoogle = window.adsbygoogle || []).push({});\\n\\n\\n\\n\\n(adsbygoogle = window.adsbygoogle || []).push({});\\nmembaca buku itu ibarat seperti makan indomie, ada yang suka indomie goreng, ada yang suka indomie kuah, ada pula yang tidak suka sama sekali.var id = \"98bd2446c62cf206d6156f03e07d58eb576b07cc\";\\n',\n",
              " 'Manusia Setengah Salmon adalah buku karya Raditya Dika keenam yang diterbitkan pada tahun 2011. Berkonsepkan cerita komedi yang ditulis berdasarkan kisah sang penulis seperti dalam buku-buku sebelumnya. Buku ini berisi 264 halaman.\\n',\n",
              " 'Review Buku Novel PS I Still Love You oleh Jenny Han – Lara Jean tidak menyangka bahwa perasaannya kepada Peter Kavinsky menjadi nyata. Setelah menyadari bahwa perasaan kedua belah pihak sama, mereka akhirnya memilih untuk menjalani hubungan. Semuanya terlihat sangat sempurna bagi Jean. Dia berhasil memperbaiki hubungannya dengan adiknya, dan menikmati waktu bersama dengan Peter. Namun semua itu tidak berakhir lama, setelah secara tiba tiba, video berisikan Jean dan Peter berduaan di kamar mandi di publikasikan oleh orang yang tidak dikenal. Semua orang yang melihat video tersebut mengira bahwa Jean dan Peter berhubungan intim di kamar mandi, dan itu jelas membuat Jean dalam posisi sulit. Jean mencurigai bahwa Genevieve, mantan kekasih Peter, adalah pelaku yang mempublikasikan video tersebut, tapi entah bagaimana, Peter sepertinya tidak percaya akan hal itu.Dalam rumitnya masalah tersebut, Jean tiba tiba mendapat sebuah surat dari John – Salah satu pria yang mendapatkan surat cinta rahasia dari Jean. Sungguh sangat kebetulan ketika John akhirnya menyadari bahwa Jean-lah yang mengirimi surat kepadanya pada masa masa sekolah dulu. Terlepas dari semua kejadian yang membuatnya stress dengan hubungan Peter dengan Genevieve, Jean malah merasa sangat nyaman berkomunikasi dengan John. Apa yang akan terjadi dengan hubungannya dengan Peter? Apakah Peter benar benar belum bisa melupakan Genevieve? Ataukah semua itu hanya terlintas di kepala Jean saja?“So much of love is chance. There’s something scary and wonderful about that. If Kitty had never sent those letters, if I hadn’t gone to the hot tub that night, it might’ve been him and Gen. But she did send those letters, and I did go out there. It could have happended lots of ways. But this is the way it happened. This is the path we took. This is our story.”Buku ini merupakan buku kedua dari sekuel novel berjudul “To All the Boys I’ve Loved Before, jadi seperti yang aku katakan pada review buku pertama ini sebelumnya, bahwa aku suka dengan open ending pada akhir cerita.\\xa0Jujur saja, aku awalnya ragu untuk membaca buku ini, mungkin karena akhir akhir ini aku terlalu banyak membaca drama, karena kebanyakan romance juga tidak akan bagus untuk diriku, aku juga butuh asupan negatif seperti horror dan thriller. Tapi, semenjak melihat banyaknya review positif mengenai buku ini, yah, pada akhirnya aku juga membaca buku ini. Sejujurnya, pendapatku mengenai buku ini masih sama seperti buku pertama, yaitu aku suka dengan plot dan jalur ceritanya, tapi mudah ditebak jalur ceritanya. Aku merasa kesal ketika membaca buku dengan isi cerita yang bisa ditebak, tapi itulah kekuatan dari Jenny Han, aku tidak bisa melepaskan buku ini dan terus kuhabiskan membacanya dalam satu hari.Karakter favoritku dalam novel kedua dari Jenny Han ini tidak lain dan tidak bukan adalah Peter, meskipun adanya penampilan seorang karakter baru dalam cerita tersebut. Saya tahu bahwa Peter seharusnya tidak terlalu perduli dengan Genevieve, karena Peter sudah memiliki Jean dan hubungan Peter dan Genevieve sendiri sudah berakhir dan telah putus. Dari apa yang dikatakan oleh kepada Jean, dan tingkah lakunya, jelas bahwa Peter benar benar menyukai Jean. Aku pikir bahwa Jean hanya merasa tidak nyaman lagi atau apalah itu.Untuk ending cerita dalam novel ini, aku tidak bisa berkata bahwa aku puas dengan semua cerita itu sendiri. Aku tidak mengeluh dengan akhir dari cerita tersebut. Faktanya hal yang kuharap dapat terjadi di akhir cerita ternyata muncul, yang kusesali hanyalah proses dan alur cerita itu sendiri. Tentu saja aku akan memberikan spoiler tentang apapun juga. Review ini hanyalah pendapat pribadi tentang novel ini. Banyak orang yang mencintai buku ini dan merasa bahwa novel ini sangat sempurna, namun tak sedikit pula yang mengkritik novel ini bahwa novel ini tidak sebagus novel pertama. Jadi saya rasa bahwa review itu selalu mengarah pada pendapat masing masing pembaca.\\xa0Name * Email * Website  \\n\\n\\n\\n\\n\\n(adsbygoogle = window.adsbygoogle || []).push({});\\n\\n\\n\\n\\n(adsbygoogle = window.adsbygoogle || []).push({});\\nmembaca buku itu ibarat seperti makan indomie, ada yang suka indomie goreng, ada yang suka indomie kuah, ada pula yang tidak suka sama sekali.var id = \"98bd2446c62cf206d6156f03e07d58eb576b07cc\";\\n',\n",
              " 'Review Buku Novel Everything Everything oleh Nicola Yoon – Seperti biasa, buku ini memang direkomendasikan oleh sahabatku yang memang pecinta buku, ya khususnya romance. Awalnya aku berpikir bahwa aku bisa menyukai buku ini. Memang aku menyukai buku ini pada awalnya, sampai beberapa bagian dalam buku ini yang membuatku bosan dan merasa tidak menyukai buku ini lagi.\\xa0For the first time in a long time, I want more than I have.Wanting just leads to more wanting. There’s no end to desire.Banyak review review mengenai buku yang positif, dan review dari sahabat saya sendiri pun sangat positif. Saya sangat menantikan buku ini karena banyaknya review positif tersebut, dan cerita pada buku ini ditulis dengan sangat bagus, penulisan yang mudah dimengerti dan karakter yang unik, seperti seorang afro yang bernama Madeline. Madeline adalah seseorang yang memiliki alergi terhadap semua hal di dunia ini kecuali ruangannya yang bersih. Hal ini membuatku berfikir bahwa cerita dalam buku ini akan berakhir seperti layaknya buku The Fault in our stars – ataupun buku seperti All the Bright Places.Meskipun aku menikmati buku ini pada awalnya, buku ini ternyata lebih kaku daripada yang kukira. Menurutku, buku ini mengajarkan padaku tentang empati terhadap kebutuhan manusia. Karakter utama dalam buku ini, yang bernama Madeline ini menurutku juga terkadang agak egois, namun kerumitan inilah yang membuatku jatuh cinta pada buku ini.Dan lagi lagi hal yang tidak kusukai dalam sebuah cerita buku muncul kembali di buku ini. Cinta pada pandangan pertama antara Madeline yang mengarahkan pandangannya pada Olly dan seluruh dunia di sekitarnya berubah. Namun hal ini berbeda kali ini, aku malah suka dengan hubungan mereka. Percakapan mereka dengan jarak antar jendela rumah, mengobrol secara online dan berbagi puisi maupun lelucon membuatku geli membaca buku ini.Awas Spoiler!Hal yang paling kusukai dalam novel ini adalah ketika Madeline mengetahui bahwa semua penyakit yang dideritanya hanyalah kebohongan belaka! Alamak! Dia sebenarnya tidak benar benar sakit, dan ibunya mengarang ngarang cerita agar dapat melindungi anaknya, dan menyimpan Madeline di dalam kamarnya, setelah suami dan abang dari Madeline meninggal. Saya pikir ibunya Madeline adalah seseorang yang menggalami syndrom Munchausen Proxy, entahlah, saya lupa dengan istilahnya.Cerita di dalam buku ini seperti opera sabun, karena pengarang buku ini membangun sebuah konsep romance mengenai konsep tentang seseorang yang mengalami penyakit dan tidak diizinkan keluar dari rumah (ide yang bagus menurutku). Dan ketika beberapa kejadian dalam cerita yang membuat konsep itu runtuh, dia seperti mengambil sebuah palu dan menghancurkan semua cerita dan plot nya begitu saja dan membangun sebuah konsep cerita romantis murahan antara 2 remaja normal yang sedang jatuh cinta. Saya pikir semua masalah yang ada telah berakhir, dan, yay! Kita bisa bersama kembali! Konsep ini sangat murahan seakan dipaksakan oleh penulisnya untuk menempelkan sebuah happy ending di dalam cerita novel itu sendiri.Disamping itu, hal yang membuatku sangat heran dengan alur cerita novel ini adalah BAGAIMANA ibunya bisa melewati 17 / 18 tahun dengan semua ini? Maksudku, ayolah, apakah tidak ada orang yang mempertanyakan penyakit anaknya? Ibunya adalah seorang dokter, ok, dia dapat memalsukan data. Tapi, ayolah, anaknya tidak pernah mendapatkan diagnosa dokter secara resmi! Latar belakang cerita ini terletak di kota California dimana saya cukup yakin ada tetangga tetangga sekitar yang tidak akan membiarkan anak tetangganya dikurung selama 18 tahun dirumah tanpa seorangpun yang bertanya!Buku ini sebenarnya cukup bagus, namun realita tidak seperti ini jika kita ingin mendiskusikannya. Overall, saya cukup terhibur dengan novel yang satu ini, meskipun saya cukup kecewa dengan ending ceritanya.Name * Email * Website  \\n\\n\\n\\n\\n\\n(adsbygoogle = window.adsbygoogle || []).push({});\\n\\n\\n\\n\\n(adsbygoogle = window.adsbygoogle || []).push({});\\nmembaca buku itu ibarat seperti makan indomie, ada yang suka indomie goreng, ada yang suka indomie kuah, ada pula yang tidak suka sama sekali.var id = \"98bd2446c62cf206d6156f03e07d58eb576b07cc\";\\n',\n",
              " 'Tiga Sandera Terakhir adalah sebuah novel thriller-militer karya Brahmanto Anindito yang diterbitkan pertama pada 2015 oleh Noura Publishing (salah satu penerbit dari Mizan Group), Jakarta. Novel bersubjudul Terinspirasi dari Konflik Berdarah di Timur Indonesia ini menceritakan sebuah drama penyanderaan di pedalaman Papua. Tentara Nasional Indonesia (TNI) merespon penyanderaan tersebut dengan mengirim Satuan Antiteror dari Komando Pasukan Khusus Angkatan Darat (Kopassus). Namun, korban malah berjatuhan.\\nTiga Sandera Terakhir boleh jadi merupakan novel pertama di Indonesia yang menjadikan dunia militer atau Kopassus sebagai latarnya[1]. Dalam teknik penceritaannya, novel ini menggunakan sudut pandang orang ketiga, yaitu sudut pandang sandera/penyandera dan tim pembebas sandera (baik militer maupun sipil). Terdiri dari 52 bab pendek, cerita Tiga Sandera Terakhir ditulis dengan kalimat-kalimat yang sederhana dan bernas.\\nSetengah bagian pertama Tiga Sandera Terakhir terinspirasi dari kejadian nyata, yakni krisis sandera Mapenduma, tragedi kemanusiaan yang melibatkan para peneliti Lorentz \\'95 sebagai korban. Namun di bab \"Di Balik Halaman: Sebuah Pengantar\" novelnya, pengarang menyebut bahwa karyanya ini secara keseluruhan lebih tepat disebut fiksi.\\nSebuah penyanderaan brutal terjadi di Papua. Korbannya lima turis berkewarganegaraan Indonesia, Australia dan Prancis. Semua telunjuk langsung menuding Organisasi Papua Merdeka (OPM). Namun, OPM sendiri ternyata menyangkalnya. Kata mereka, pihaknya sudah lama tidak menggunakan cara-cara seperti itu demi perjuangan kemerdekaan Papua Barat.\\nApapun itu, TNI enggan berteka-teki terlalu lama. Satuan Antiteror Kopassus, Gultor, di bawah komando Kolonel Inf. Larung Nusa segera diturunkan ke bumi cenderawasih. Tetapi, malang tak bisa ditolak. Korban-korban malah bertumbangan, baik di pihak sandera maupun anggota Kopassus. Kolonel Nusa pun mulai menyadari bahwa lawannya bukan sekadar milisi OPM. Melainkan pasukan khusus, seperti dirinya.[2]\\nMasalah kemudian berkembang pelik. Lantaran operasi militer memakan banyak korban, Kolonel Nusa akhirnya diskors selama 10 hari oleh atasannya, Mayjen Abassia. Namun, sanksi ini sejatinya hanyalah pengalihan tugas bagi Nusa untuk memimpin satu unit \"pasukan hantu\". Untuk misi baru ini, dia ditemani Nona Gwijangge, Tafiaro Wenda, Witir Femmilio, dan Kresna Sonar.[3] Dengan keahlian masing-masing, mereka bahu-membahu dalam misi melacak dan mengeliminasi dalang yang sesungguhnya dari drama penyanderaan ini.\\nBerikut ini beberapa tokoh kunci dalam novel fiksi Tiga Sandera Terakhir (diurutkan berdasarkan alfabet)[4]:\\nBerikut ini komentar dari sebagian pembaca novel Tiga Sandera Terakhir yang dikutip dari bukunya dan situs web resminya[5]:\\n Tentara Nasional Indonesia Papua Nugini\\nDidukung:\\n Organisasi Papua Merdeka\\nDidukung:\\n Libya (berakhir 2011)\\n\\nNovel Tiga Sandera Terakhir berangkat dari peristiwa penyanderaan nyata yang terjadi mulai 8 Januari 1996 di Desa Mapenduma, Jayawijaya, Kecamatan Tiom, Irian Jaya (nama provinsi sebelum Papua). Pada 8 Januari 1996, Mission Aviation Fellowship cabang Wamena mengirimkan laporan kepada Komando Distrik Militer Jayawijaya. Laporan tersebut mengatakan bahwa 26 peneliti dari Tim Ekspedisi Lorentz 95 disandera oleh sayap militer OPM di bawah pimpinan Kelly Kwalik.\\nTim Lorentz telah berada di sana sejak 18 November 1995. Ekspedisi mereka bermaksud meneliti keanekaragaman hayati di Cagar Alam Lorentz melewati Mapenduma, sekitar 160 km di barat daya Wamena.\\nMendapat laporan penyanderaan, pihak berwenang, dalam hal ini Kodam Jayapura dan Brimob Jayapura segera menjalankan Operasi Pembebasan Sandera Mapenduma. Pasukan Kopassus yang dipimpin Brigjen. TNI Prabowo Subianto kemudian juga diterjunkan, dan akhirnya mengambil alih jalannya misi pembebasan sandera tersebut. Menurut Koran Tempo, tokoh Larung Nusa dalam novel Tiga Sandera Terakhir mengingatkan pembaca akan sosok Prabowo Subianto ini[8].\\nSementara itu, pada 15 April 1996, di tengah Operasi Pembebasan, terjadi insiden terpisah, yakni penembakan oleh anggota Kopassus bernama Letnan Dua Sanurip yang diduga menderita penyakit malaria. Dalam insiden ini, Letkol. Adel Gustimego (Komandan Detasemen 81 Kopassus) tertembak mati. Korban lainnya yang berasal dari jajaran Kopassus adalah Mayor Gunawan, Kapten Djatmiko, Serma Jaswanto, dan Praka Rudi. Sedangkan korban dari Batalyon 752 adalah Serma Joko, Praka Mochtar, Praka Kasiyanto, dan Praka Triyono. Satu lagi korban ABRI berasal dari Koramil di Timika, yaitu Sertu Manase.\\nAwalnya, misi pembebasan sandera mengutamakan jalur damai, dengan negosiator dari pihak Keuskupan Jayapura, dan dilanjutkan oleh Komite Internasional Palang Merah atau International Committee of the Red Cross (ICRC). Akan tetapi, karena jalan damai ini tidak membuahkan hasil[9], operasi militer besar-besaran pun ditempuh. Sandera akhirnya benar-benar berhasil dibebaskan pada 9 Mei 1996 setelah aparat menyerbu kantong-kantong OPM penyandera di Desa Geselama, Mimika.\\nSayangnya, dua dari 11 sandera berkebangsaan Indonesia ditemukan meninggal. Mereka adalah Matheis Yosias Lasembu (seorang ornitologis) dan Navy W. Th. Panekenen (ahli biologi dari Universitas Nasional Jakarta Fakultas Biologi). Matheis kemudian dimakamkan di Bandung dan Navy dikebumikan di Jakarta.\\n',\n",
              " 'Review Buku Novel The God Game oleh Danny Tobey –\\xa0 Ada beberapa buku di dunia ini yang sangat patut diberikan acungan jempol dan kalau aku disuruh menilai 1-5 bintang mengenai buku ini, maka tanpa ragu aku akan memberikan nilai 9. Yeah, buku ini melebihi harapanku, dan sangat menjanjikan karena buku ini membuatku terasa terhipnotis dan menyuruhkan seakan akan aku akan sangat menyesal kalau tidak membacanya hingga lembar terakhir malam itu juga.\\xa0Buku berjudulkan ‘The God Game’ yang ditulis oleh Danny Tobey ini sangat mengesankan, sebuah karya novel yang menceritakan sebuah sisi permainan yang sangat nyata, dan meskipun novel ini hanyalah fiksi belaka, namun saya seakan-akan terserap kedalam ceritanya dan aku terlahap kedalamnya.Sebelum saya mengupas sedikit review tentang buku ini, anda harus sadar betul bahwa genre buku ini adalah berupa fiksi, dan dibumbui dengan fantasi dan tentu saja thriller yang sangat kental dimana dalam setiap lembar halaman ini anda akan sangat penasaran dengan kejadian yang mungkin selanjutnya akan terjadi. Nah, jadi buku ini bermula dengan 5 orang remaja yang mungkin bisa dikategorikan sebagai “murid buangan”, tidak pandai bersosialisasi, yang membuat sebuah geng kecil dimana mereka biasanya akan berkumpul dan bertemu satu sama lain di sebuah lab komputer, ditemani dengan banyak video games. Hal yang biasanya terjadi dimasa-masa remaja sekolah manapun.Namun kebahagiaan yang mereka rasakan saat ini sangatlah singkat. Semenjak mereka memasuki masa SMA, banyak perubahan yang sangat drastis yang mereka rasakan di geng kecil mereka. Salah satu anak yang bernama Charlie contohnya, yang dulunya adalah seorang murid yang sangat top, namun sekarang performanya di sekolah, baik dari segi nilai pelajaran maupun konsentrasinya dalam belajar menjadi sangat menurun drastis. Hal itu terjadi pasca ibunya meninggal karena menderita kanker. Teman baiknya, Vanhi, dimana keluarga mereka berimigrasi dari India ke USA, demi mencari kehidupan yang lebih baik. Vanhi bermimpi untuk masuk ke sekolah idaman dimana dia memiliki target untuk masuk ke Harvard, namun pada akhirnya dia hanya bisa memendam cita-citanya itu. Lalu ada lagi seorang anak yang bernama Kenny, seorang jurnalis ulung di sekolah yang punya banyak masalah di keluarganya. Selanjutnya adalah Alex, seorang anak berdarah Asia yang kurang pandai dalam pelajaran matematika dan setiap kali dia membawa pulang kertas ulangannya yang merah pulang kerumah, ayahnya akan memukul dia sampai lebam. Dan yang terakhir, Peter, seorang anak dari kalangan orang kaya, disukai semua orang disekolah. Namun tak bisa dipungkiri, keempat anak remaja lainnya selain Peter merasa bangga, karena Peter memilih mereka berempat menjadi anggota geng kecilnya.Nah cerita mulai berjalan ketika Peter mengenalkan sebuah rahasia besar miliknya, permainan G.O.D. yang dimana adalah sebuah program yang diyakini dibuat oleh sebuah kepintaran artifisial atau A.I. atau yang lebih dikenal dengan sebutan Tuhan. Ketika kamu memutuskan untuk ikut bermain dan menang, maka Tuhan tersebut meyakini anda bahwa semua impian dan cita-citamu akan bisa diwujudkan olehnya. Sebuah iming-iming yang sangat menggiurkan, namun hal yang besar terkadang datang dengan resiko yang besar pula, karena jika kamu kalah dalam permainan ini, maka kamu akan mati.Mungkin sampai disini saja, karena kalau aku melanjutkannya bisa-bisa aku malah memberikan spoiler yang sangat tidak diperlukan. Apalagi buku novel The God Game ini sangat kurekomendasikan bagi mereka yang punya ketertarikan di genre Sci-fi karena meskipun buku ini sangat mendebarkan dalam setiap lembar halamannya. Buku ini sangat kurekomendasikan bagi anda yang suka buku fantasi dan berimajinasi tinggi dan memberikan sedikit debaran dalam ceritanya. Kelebihan dari buku ini adalah buku jalan cerita dalam buku sangatlah cepat dan mendebarkan, sehingga anda tidak akan bosan untuk membacanya. Dan sayangnya kekurangan buku ini, yah masih kucari, hehe. Overall aku sangat suka dan menikmati buku ini, jadi mungkin kalau anda menemukan poin-poin yang membosankan, itu wajar, karena selera orang berbeda-beda. Satu hal yang mungkin harus kita lakukan bersama adalah menghargai sebuah karya orang lain, dan selamat membaca.\\xa0 ♥Name * Email * Website  \\n\\n\\n\\n\\n\\n(adsbygoogle = window.adsbygoogle || []).push({});\\n\\n\\n\\n\\n(adsbygoogle = window.adsbygoogle || []).push({});\\nmembaca buku itu ibarat seperti makan indomie, ada yang suka indomie goreng, ada yang suka indomie kuah, ada pula yang tidak suka sama sekali.var id = \"98bd2446c62cf206d6156f03e07d58eb576b07cc\";\\n',\n",
              " 'Review Buku Novel My Lovely Wife – Buku ini adalah buku paling bagus dan mendebarkan yang kubaca pada tahun 2019 ini. Jujur saja, pada awal saya membeli buku ini, hanyalah dikarenakan semata cover buku ini yang wow, dan sedikit mentereng, sehingga bagi pecinta genre thriller, dengan melihat cover buku ini, tentunya akan sedikit tergelitik. Terlebih ketika saya membaca ulasan di belakang bukunya, saya lebih menyakinkan diri saya untuk segera membeli buku ini.\\xa0Aku tidak berpikir banyak setelah membaca ulasan singkat pada belakang cover buku ini. Ulasan tersebut sedikit banyak berbunyi seperti ini, “Cerita cinta kita sangat sederhana. Saya bertemu dengan seorang wanita yang sangat mempesona. Jatuh cinta satu sama lain, punya anak. Bercerita tentang impian masing-masing, serta bercerita rahasia masing-masing. Lalu kita merasa bosan. Namun rahasia harus tetap dijaga untuk membuat sebuah pernikahan tetap berlangsung lama. Rahasia kita, sayangnya berisi dengan pembunuhan.”Buku ini sangat gelap, dalam artian buku ini mungkin tidak akan cocok jika anda senang dengan cerita fairytale ataupun yang menceritakan kisah romantisme. Buku ini lebih kepada hal-hal yang menganggu, sehingga saya tidak merekomendasikan buku ini kepada mereka yang dengan mudah merasa terganggu. Namun jika anda tidak memiliki masalah, atau senang dengan suspense dan thriller, maka buku ini adalah buku yang sangat cocok untuk anda.Buku ini bermula dari seseorang pria yang mendekati seorang wanita di bar. Pertemuan kedua orang ini juga sangat lucu dimana pria tersebut menyodorkan ponselnya kepada wanita tersebut untuk dibaca. Isi teks dalam ponsel itu berisi perkenalan dimana akan ada kata “Hello. My name is Tobias”, perkenalan ini memang sedikit aneh, namun text selanjutnya yang ditulis Tobias membuat semuanya jernih, “I am deaf (saya tuli)”.Orang-orang pada umumnya pasti akan memastikan bahwa pernikahan yang mereka jalin akan terus bertahan selama-lamanya. Tak terkecuali pasangan suami istri yang satu ini. Namun hal yang membuat pernikahan mereka tetap hidup dan menghindari dari kebosanan sangat, sangat berbeda dan tidak dapat kita sangka.Novel “My lovely Wife” yang satu ini sangat unik, dan memberikan rasa thrilling,\\xa0apalagi jika anda jomblo dan membaca buku ini di malam minggu, seperti halnya yang baru saja saya lakukan dari tadi, eh?Sebagai novel pertamanya, atau novel perdana, penulis ini dapat diacungi jempol, Samantha Downing melakukan pekerjaan yang fantastis. Akan sangat menyenangkan jika dia bisa menerbitkan buku yang lainnya, dan pastinya saya tidak akan melewatinya.NB: Jika anda ingin order dan membeli buku ini dari saya, (versi bahasa inggris tentunya) paperback maupun hardcover, anda dapat add saya di WA: 082288130012. Terima kasih.Name * Email * Website  \\n\\n\\n\\n\\n\\n(adsbygoogle = window.adsbygoogle || []).push({});\\n\\n\\n\\n\\n(adsbygoogle = window.adsbygoogle || []).push({});\\nmembaca buku itu ibarat seperti makan indomie, ada yang suka indomie goreng, ada yang suka indomie kuah, ada pula yang tidak suka sama sekali.var id = \"98bd2446c62cf206d6156f03e07d58eb576b07cc\";\\n',\n",
              " 'Review Buku Novel The Love that Split the World oleh Emily Henry – Jujur saja, buku ini sangat aneh dan sulit dimengerti, dan otomatis saya tidak menikmati buku novel berjudul “The Love that Split The World” yang satu ini. Tapi saya yakin semua buku itu bagus tergantung pembacanya. Saya tidak akan berkata hal hal yang buruk tentang buku ini, karena pendapat orang orang pada umumnya akan berbeda, namun pendapatku mengenai buku ini adalah kurang bagus.Setting di dalam cerita didalam buku ini berada pada kota kecil, dan banyaknya quotes mengenai cinta pertamanya membuatku berfikir bahwa buku ini sangat dramatis, dan saya suka dengan quotes quotes yang manis. Hal lainnya yang saya sukai mengenai buku ini adalah karakter di dalam buku ini yang merupakan seorang warga negara Amerika Latin dan budayanya yang sangat ditonjolkan (mungkin tidak). Karakter utama didalam buku ini merupakan seseorang yang diadopsi dan sedang dalam misi untuk mencari jati diri dan masalalunya. Banyak sekali dongeng yang muncul di dalam buku ini. Dongeng nya sangat manis, namun dongeng yang intensitasnya sangat banyak ini sangat membuat buku ini keluar dari jalurnya sendiri. Cerita itu seharusnya berisikan petunjuk mengenai plot dalam buku, namun banyaknya dongeng dan cerita cerita yang tak berhubungan, membuat buku ini sukar di mengerti. Setiap kali dongeng dongengnya muncul di dalam cerita, suara suara tidak menyenangkan muncul di kepalaku yang menandakan bahwa plot cerita sudah berhenti sementara.Hal lainnya yang tidak kusukai serta menghentikan plot adalah seringnya ada acara sampah. 50% dari buku ini adalah anak anak remaja berpesta, minum minum, berkencan, dan kebingungan remaja. Sedangkan 50% lainnya dari buku ini berisikan karakter yang agak dewasa yang agak sedih. Masalahnya didalam buku ini adalah keterlambatan serta tersendatnya plot cerita. Ketika karakter utama dalam buku ini sedang berusaha mencari tahu apa yang terjadi terhadap Natalie,\\xa0 dia malah terbang menjelajahi waktu, dan hal ini juga menjadi salah satu penyebab tidak menariknya buku ini bagiku.Baca juga: Review Buku The Sun is Also a Star oleh Nicola YoonSebenarnya buku ini menurutku bagus (di berbagai aspek), namun karena adanya dongeng yang banyak di pertengahan jalan cerita, maka buku ini kurang kuminati. Begini, jika anda membeli buku ini karena ingin membaca tentang cerita menjelajah waktu, maka baca chapter pertama dan loncat ke chapter 31.Buku ini berjalan dengan sangat lambat dan berisikan tentang perjalanan waktu dengan seseorang yang dicintainya yang terjebak dan muncul dari waktu ke waktu sebagai bumbu pelengkap sebelum karakter utama nya pingsan dengan cepat pula.Saya benci mengatakan ini, namun pengalaman saya ketika membaca buku ini ibaratnya seperti saya sedang naik mobil dan duduk di bangku penumpang dan hendak pergi ke pantai. Dan ketika dalam perjalanan, saya mulai sadar bahwa kita malah salah arah pergi ke sana dan malah pergi ke tempat dan daerah yang salah pula. Lalu ketika dari kejauhan saya mulai melihat laut, saya pun mungkin berkata “Hey, itu pantainya.” Namun sedetik kemudian kami malah berakhir ke daerah pegunungan tanpa busana dan tidak punya sedikitpun ide mengenai apa yang telah terjadi dan apa yang membawa ktia kesana.Overall, buku ini manis untuk dibaca, namun sangat banyaknya perjalanan waktu, membuatku sangat gerah dan aku tidak punya waktu yang banyak untuk membaca perjalanan waktu seseorang. Namun hal yang kusukai dalam buku ini adalah penjelasan karakter yang jelas (maksud saya, SANGAT JELAS) mengenai detail karakter itu sendiri beserta kehidupannya. Lucunya, buku ini juga berisikan sejarah unik mengenai perabotan perabotan mereka (tidak, aku tidak sedang bercanda, jika anda memiliki buku ini, buka halaman 282). Dan yay! Sekian dahulu mengenai review buku novel the love that split the world yang menurutku kurang bagus ini. (Mungkin suatu hari aku akan membaca ulang buku ini dari awal).Name * Email * Website  \\n\\n\\n\\n\\n\\n(adsbygoogle = window.adsbygoogle || []).push({});\\n\\n\\n\\n\\n(adsbygoogle = window.adsbygoogle || []).push({});\\nmembaca buku itu ibarat seperti makan indomie, ada yang suka indomie goreng, ada yang suka indomie kuah, ada pula yang tidak suka sama sekali.var id = \"98bd2446c62cf206d6156f03e07d58eb576b07cc\";\\n',\n",
              " 'Divergent adalah novel fiksi ilmiah karya penulis Amerika Serikat Veronica Roth. Berlatar tempat di Chicago masa depan, novel ini merupakan seri pertama dalam trilogi Divergent. Divergent kerap dibanding-bandingkan dengan novel remaja sejenis seperti The Hunger Games dan The Maze Runner karena kesamaan tema dan target pembacanya. Roth berkata bahwa ide cerita Divergent muncul saat ia masih berkuliah. Plot utama novel ini adalah mengenai pembagian masyarakat ke dalam berbagai jenis faksi menurut kepribadian, mirip dengan novel Clans of the Alphane Moon (1964) karya Philip K. Dick.\\nSummit Entertainment membeli hak pengadaptasian novel menjadi film dan mulai memproduksi film adaptasinya pada tahun 2013, yang juga berjudul Divergent.[1] Novel kedua dalam trilogi ini adalah Insurgent, yang diterbitkan pada 1 Mei 2012, dan novel ketika sekaligus terakhir, Allegiant, pada 22 Oktober 2013.\\nKisah novel ini berlangsung di kota Chicago masa depan usai perang nuklir yang menghancurkan dunia. Penduduk kota dibagi menjadi 5 faksi: Abnegation untuk orang-orang yang tidak mementingkan diri sendiri dan tanpa pamrih; Amity untuk orang-orang yang cinta perdamaian; Candor untuk orang-orang jujur; Dauntless untuk orang-orang pemberani; dan Erudite untuk orang-orang cerdas. Setiap tahunnya, semua penduduk yang berusia enam belas tahun harus mengikuti tes bakat yang akan menentukan faksi yang paling cocok bagi mereka. Setelah menerima hasil tes, mereka harus memutuskan apakah akan tetap tinggal bersama keluarga atau bergabung dengan faksi baru.\\nSeorang gadis enam belas tahun bernama Beatrice Prior terlahir dari keluarga Abnegation yang sederhana dan tanpa pamrih. Namun, ia memilih meninggalkan faksi ini untuk bergabung dengan para pemberani di Faksi Dauntless. Meninggalkan orang tuanya, membuang namanya untuk hidup bersama faksi yang baru, Beatrice menjadi Tris, berharap menemukan jati dirinya bersama para Dauntless. Namun, Tris harus lulus tes inisiasi terlebih dulu agar bisa diterima. Tak ada jalan kembali. Tak lulus inisiasi berarti Tris akan bergabung dengan orang-orang yang terbuang dan hidup menggelandang. Para calon Dauntless diharuskan bertarung untuk benar-benar menjadi anggota dari Faksi Dauntless, mulai dari bertarung fisik sampai mental, dan pada akhirnya, hanya sepuluh orang saja yang akan diterima sebagai anggota.\\nDivergent dikritik karena kemiripan temanya dengan novel sejenis lainnya. Nolan dari American Prospect menyatakan bahwa Divergent mengikuti pola yang sama dengan The Hunger Games dan Blood Red Road.[2] Seperti novel distopia sejenis lainnya, Divergent berfokus pada tema-tema seperti fiksi ilmiah, petualangan, dan aksi, dengan sasaran pembaca kelompok usia remaja lanjut.[3]\\nTerlepas dari kemiripan temanya dengan novel sejenis, Divergent dipuji secara luas. James Dashner, penulis novel The Maze Runner, menyatakan bahwa Divergent adalah buku yang memikat dan mengagumkan\". Melissa Marr, penulis Wicked Lovely, berpendapat Divergent adalah \"bacaan yang menarik dan mendebarkan\". Sedangkan Kirkus Reviews memuji alur cerita yang kencang dan membuat kecanduan, dengan adegan kekerasan yang menyentak dan kisah cinta yang membuai.[4][5][6] Dalam ulasan di Entertainment Weekly, Breia Brissey menyatakan Divergent \"lebih lemah dan kurang bernuansa\" jika dibandingkan dengan The Hunger Games, dan memberi novel ini nilai B+.[7]\\nBuku ini menempati posisi 6 dalam daftar buku berseri terlaris The New York Times pada tanggal 22 Mei 2011,[8] dan tetap menempati posisi tersebut selama 11 minggu.[9] Divergent juga bertengger selama 39 minggu di posisi puncak daftar buku anak-anak terlaris tahun 2012.[10][11]\\nDivergent juga telah meraih sejumlah penghargaan, termasuk Buku Favorit Tahun 2012 dari Goodreads, Best Book of The Year DI Barnes & Noble, Publisher Weekly, Amazon.com, dan NPR.[12][13][14]\\nSummit Entertainment membeli hak pengadaptasian novel menjadi film dan menunjuk Neil Burger sebagai sutradara. Film ini diperankan oleh Shailene Woodley sebagai Beatrice \"Tris\" Prior. Sedangkan karakter Tobias \"Four\" Eaton diperankan oleh Theo James; aktor lainnya yang sebelumnya juga dipertimbangkan untuk memerankan Tobias adalah Alex Pettyfer, Alexander Ludwig, Lucas Till, Jeremy Irvine, Luke Bracey, Brenton Thwaites, dan Jack Reynor.[15] Pemeran lainnya yang juga terlibat dalam film ini adalah Kate Winslet sebagai Jeanine Matthews, Maggie Q sebagai Tori, Zoe Kravitz sebagai Christina, Ansel Elgort sebagai Caleb, Miles Teller sebagai Peter, Ashley Judd sebagai Natalie Prior, Tony Goldwyn sebagai Andrew Prior, dan Jai Courtney sebagai Eric.[16] Skenario film ditulis oleh Evan Daugherty dan dijadwalkan akan dirilis pada tanggal 21 Maret 2014.\\n',\n",
              " 'for the benefit of mr. kiteDaily RamblingsEka Kurniawan harus saya cintai untuk alasan ini:Dia adalah pencipta karakter paling pahit yang pernah saya baca.Holden Caufield-nya The Catcher in the Rye sampai Toru Watanabe-nya Haruki Murakami yang saya kira takaran pahitnya sudah di atas rata rata itu kalah oleh karakter karakter yang ada di dalam novel setebal 478 halaman ini. Saya dibuat menggumam “Anjrit..” berkali kali saat disuguhkan situasi yang menunjukkan betapa dingin dan tidak berperasaannya si tokoh utama.Saya kira karakter demikian hanya dimiliki satu tokoh utama dengan tokoh tokoh lain sebagai penyeimbang. Dugaan ini seketika runtuh sebab pada halaman demi halaman yang melibatkan tokoh baru, saya selalu menemukan kekejaman dan kedinginan yang sama dengan karakter utama- Dewi Ayu-Dimulai dari si Cantik, lalu Maman Gendeng, lalu Kamerad Kliwon, lalu Alamanda dan seterusnya. Silih berganti mereka menjelma menjadi sosok yang akan mematahkan hatimu tanpa ampun untuk kemudian tersenyum dan berlalu. Kisah percintaan laki laki paling tampan sedunia dan perempuan paling cantik sejagad raya itupun berakhir dengan Kamerad Kliwon yang menikahi Adinda, adik Alamanda. Pedih dan menyakitkan.Kemudian cara Eka Kurniawan menyediakan ending cerita untuk si Cantik yang seolah berkata “Ga ada gunanya menunggu akhir yang bahagia, hidup ini fucked up, telan dan jalani saja”. Sebuah cara penyampaian cerita yang, sekali lagi, pedih dan menyakitkan. Seperti kebanyakan resensi atas buku ini, membaca Cantik itu Luka memang menyisakan perasaan yang gamang dan sejumlah gugatan. Namun terlepas dari itu semua, bagi saya Cantik itu Luka adalah vakansi yang menyenangkan karena rasa rasanya tidak pernah saya temukan karakter karakter sedingin, sekelam, sepahit mereka bahkan di dalam karya Seno Gumira Ajidarma.Dewi Ayu adalah puncak performa kelihaian pak Kurniawan dalam menguntai kepahitan karakter. Di halaman halaman awal kita disuguhkan sesosok perempuan tua bekas pelacur yang melahirkan anak buruk rupa namun justru bersyukur atas itu. Lebih lebih, menginginkan agar si anak terlahir demikian. Ia lalu memutuskan untuk mati lalu hidup kembali 21 tahun kemudian. Ia begitu karena ia ingin begitu. Fak sekali kan? KAN??Dalam novel novel yang terobsesi menyuguhkan pesan moral sebagai dagangan singkat rangkuman cerita di cover belakang, Dewi Ayu tentu akan dijabarkan sebagai perempuan baik baik, manis ramah kesayangan semua orang di masa silam yang lalu diubah oleh keadaan. Sayapun berprediksi demikian, sebab Cantik itu Luka adalah novel pop kekinian yang digemari banyak orang.Kenyataannya? Dewi Ayu memang bersifat demikian sejak awal mula penciptaan. Gadis kecil dengan kecerdasan alami di atas rata rata yang membuatnya lebih tenang sebab mengetahui banyak hal dari orang sekitarnya. Ia memandang orang lain tidak memiliki kecerdasan yang setara dengannya sehingga mudah baginya menjadi berkuasa atas orang lain. Ia memiliki bakat pemimpin, ketenangan yang tidak main main ditambah ketabahan luar biasa yang ditempa oleh apa (ia sudah memiliki karakter ini sejak hari pertama tentara Jepang mengurungnya di penjara, sejak hari pertama ia dijadikan pelacur di rumah Mama Kalong)Tanpa penjelasan susah payah soal mengapa si A berkarakter demikian, Eka justru menambah unsur magis novel ini. Membuat saya dan siapapun betah untuk duduk berlama lama, membaca lompatan peristiwa dengan sederet tokoh yang berkaitan satu sama lain meski dalam beberapa chapter agak jauh ia dituliskan.Buku ini sekaligus menjadi penanda sebuah momentum. Sebulan terakhir saya menjadi bagian dari chapter menyenangkan bersama seseorang yang tidak kalah menyenangkan dari cerita yang saya susun di dalam kepala. Ia yang sedianya ada di dalam orbit saya bertahun tahun lamanya. Orbit yang kemudian berbenturan dan menjumput kebahagiaan. Banyak, berlimpah ruah.Lalu seperti layaknya sebuah perjalanan, saya harus kembali menyusuri orbit itu. Meninggalkan momentum itu dan melayang untuk menemukan benturan benturan baru. Begitu seterusnya hingga usia gumpalan debu kosmis ini berakhir, saya rasa. Meski terdengan suram dan membosankan, namun setiap kita memang berhutang kewajiban untuk meneruskan perjalanan.Sampit, 6 April 2016Seperti Dewi Ayu, dingin dan kejam nampaknya memang sebuah pilihan yang menyenangkan.\\n\\t\\t\\tA Wanderer who constantly asking about \"Why?\"\\t\\t\\t\\n\\t\\t\\t\\tView all posts by nanirigby\\t\\t\\t\\nFill in your details below or click an icon to log in:\\n\\n\\t\\t\\tYou are commenting using your WordPress.com account.\\t\\t\\t\\n\\t\\t\\t\\t(\\xa0Log\\xa0Out\\xa0/\\xa0\\n\\t\\t\\t\\tChange\\xa0)\\n\\t\\t\\t\\n\\n\\n\\n\\t\\t\\tYou are commenting using your Google account.\\t\\t\\t\\n\\t\\t\\t\\t(\\xa0Log\\xa0Out\\xa0/\\xa0\\n\\t\\t\\t\\tChange\\xa0)\\n\\t\\t\\t\\n\\n\\n\\n\\t\\t\\tYou are commenting using your Twitter account.\\t\\t\\t\\n\\t\\t\\t\\t(\\xa0Log\\xa0Out\\xa0/\\xa0\\n\\t\\t\\t\\tChange\\xa0)\\n\\t\\t\\t\\n\\n\\n\\n\\t\\t\\tYou are commenting using your Facebook account.\\t\\t\\t\\n\\t\\t\\t\\t(\\xa0Log\\xa0Out\\xa0/\\xa0\\n\\t\\t\\t\\tChange\\xa0)\\n\\t\\t\\t\\n\\nConnecting to %s Notify me of new comments via email. Notify me of new posts via email. \\n\\nTavel, books, movies and games.\\nBut mostly random thoughts.Random observations and unsolicited advice(Somewhat) Daily News from the World of Literary NonfictionOcehan gak guna seorang pegawai kantoran biasa.Daily RamblingsJournalDaily RamblingsDaily RamblingsDaily Ramblingshanya pembenaran belakaDaily Ramblings',\n",
              " 'Bukan Pasar Malam merupakan sebuah novel karangan Pramoedya Ananta Toer yang diterbitkan pada tahun 1951 oleh Balai Pustaka, kemudian dinyatakan terlarang pada tahun 1965.[1] Pada tahun 1999, novel ini diterbitkan kembali oleh Bara Budaya.[1] Oleh sebagian pembaca, Bukan Pasar Malam, sering disimpulkan sebagai novel yang bernuansa religius, beraura mistik, dan mengandung pergulatan eksistensial diri manusia ketika berhadapan dengan maut di samping ironi seorang pejuang kemerdekaan yang kecewa dan tak mendapatkan tempat yang layak justru ketika kemerdekaan yang diperjuangkan dengan penuh pengorbanan itu sudah terwujud.[2]\\nPerjalanan seorang anak revolusi yang pulang kampung karena ayahandanya jatuh sakit.[3] Dari seputaran perjalanan itu, terungkap beberapa potong puing gejolak hati yang tak pernah teranggap dalam gebyar-gebyar revolusi.[3]\\nDikisahkan bagaimana keperwiraan seseorang dalam revolusi pada akhirnya melunak ketika dihadapkan pada kenyataan sehari-hari: ia menemukan ayahnya yang seorang guru yang penuh bakti tergolek sakit karena TBC, anggota keluarganya yang miskin, rumah tuanya yang sudah tidak kuat lagi menahan arus waktu, dan menghadapi istri yang cerewet.[3]\\nBerpotong-potong kisah itu diungkapkan dengan sisa-sisa kekuatan jiwa yang berenangan dalam jiwa seorang mantan tentara muda revolusi yang idealis.[3] Lewat tuturan yang sederhana dan fokus, tokoh \"aku\" dalam novel ini tidak hanya mengritik kekerdilan diri sendiri, tetapi juga menunjuk muka para jendral atau pembesar negeri pascakemerdekaan yang hanya asyik mengurus dan memperkaya diri sendiri.[3]\\nBukan Pasar Malam merupakan sebuah novel yang mampu memberikan pengaruh dalam Orde Baru sehingga dibredel pada tahun 1965.[4] Novel ini dianggap memberikan pengaruh yang signifikan terhadap dunia perpolitikan Indonesia karena Pramoedya menumpahkan protesnya secara tidak langsung kepada pemerintah melalui tulisan dalam novel ini.[5] H. B. Jassin, seorang sastrawan Indonesia mengungkapkan bahwa novel ini telah menampakkan gugatan sosial di zamannya.[1] Bukan Pasar Malam merupakan salah satu novel Pramoedya yang diterbitkan ke dalam banyak bahasa, antara lain Inggris, Belanda, Jerman, dan Prancis.[3]\\n',\n",
              " 'Review Buku Novel The Sun is also a Star oleh Nicola Yoon – Buku ini sangat indah di banyak aspek sehingga saya tidak tahu bagaimana cara menjelaskannya. saya rasa sih kamu harus mencobanya! Benar benar mencobanya! Itulah yang diucapkan sahabatku sebelum aku mencobanya sendiri.Saya berusaha membaca buku ini, dan saya bahkan menghabiskan waktu 2 bulan yang kucicil sedikit demi sedikit untuk membaca buku ini. Saya berusaha, maaf, tapi saya sudah berusaha. Saya minta maaf karena ada beberapa sahabat dekat saya yang merekomendasikan buku ini karena menurut mereka buku ini sangat bagus. Aku tidak bisa menyukai buku ini. Kuakui memang ada beberapa hal dan momen bagus di dalam buku ini, tapi aku hanya tidak bisa menyukainya. Mungkin buku ini lebih bagus untuk anda yang lebih romantis dibandingkan saya. Buku ini memang cocok untuk anda yang sudah siap untuk cerita pada pandangan pertama atau mereka yang memang percaya pada pandangan pertama.The Universe stops and waits for us.She opens her palm and she’s going to take my hand. She’s supposed to take my hand. We’ve meant to walk through this world together. I see it in her eyes. We are meant to be.Anda bisa menggangap aku seseorang yang sinis atau berhati dingin, tapi saya pada dasarnya tidak percaya pada cinta pada pandangan pertama. Mungkin menurut anda suatu hari anda akan bertemu seseorang yang sangat cantik dan rupawan, dan hey, aku cinta kamu, maukah kamu jadi pacarku. Yah, cinta itu tidak berlaku padaku, maaf. Cinta menurutku lebih kepada mengetahui kelemahan, kebiasaan, dan kelebihan seseorang.Baca juga: Review Buku Novel The Love that Split the WorldBuku berjudulkan “The sun is also a Star” ini berusaha membuat skenario cinta yang instan. Buku ini mengenai Natasha – seorang imigran jamaika, seorang kutu buku dan skeptis. Sedangkan Daniel – seorang berkewarganegaraan Korea Amerika yang sedang memberontak atas keputusan orang tuanya menjadi seorang dokter. Cerita cinta ini bermula ketika Natasha yang sedang dideportasi bertemu dengan David, dan seketika itu juga Natasha langsung jatuh cinta padanya.Daniel, kelihatannya juga sepertinya terobsesi dengan Natasha pada pandangan pertama. Dia percaya bahwa pertemuan dengan Natasha adalah pertanda cinta dan dia akhirnya memutuskan untuk mengikuti Natasha. Setelah berkenalan selama beberapa jam, Daniel akhirnya sangat yakin bahwa Natasha adalah pendamping hidupnya dan akan merubah hidupnya.Jika anda adalah seseorang yang suka dengan romance instant, maka anda mungkin akan menikmati buku ini. Tapi saya? Saya lebih kepada genre thriller daripada romance. Bukan berarti saya tidak menikmati novel romance. Saya suka romance, tapi bukan romance seperti ini. Bagi saya romance yang seperti ini seperti omong kosong belaka. Buku romance seharusnya adalah buku yang dapat anda cintai baik itu dari fisik buku tersebut, sampai isi dari cerita buku tersebut. Tapi sayangnya buku ini tidak aku sukai. Bagi anda yang suka dengan buku romance dan tetap setia dengan romance macam apapun itu, silahkan dicoba ya!\\xa0Name * Email * Website  \\n\\n\\n\\n\\n\\n(adsbygoogle = window.adsbygoogle || []).push({});\\n\\n\\n\\n\\n(adsbygoogle = window.adsbygoogle || []).push({});\\nmembaca buku itu ibarat seperti makan indomie, ada yang suka indomie goreng, ada yang suka indomie kuah, ada pula yang tidak suka sama sekali.var id = \"98bd2446c62cf206d6156f03e07d58eb576b07cc\";\\n',\n",
              " 'Romeo dan Julia adalah tragedi karya William Shakespeare yang ditulis pada awal kariernya. Tragedi ini mengisahkan sepasang mempelai muda yang saling jatuh cinta, tetapi terhalang karena kedua keluarga mereka saling bermusuhan.[1] Romeo, dan Julia merupakan salah satu karya Shakespeare yang paling terkenal, dan juga merupakan salah satu karyanya yang paling sering dipentaskan selain Hamlet dan Macbeth.\\nRomeo dan Julia awalnya merupakan roman tragik pada zaman kuno. Cerita Romeo, dan Julia dibuat berdasarkan cerita di Italia, yang diubah menjadi sajak dalam The Tragical History of Romeus and Juliet oleh Arthur Brooke tahun 1562, dan diceritakan kembali dalam bentuk prosa pada Palace of Pleasure karya William Painter tahun 1582. Shakespeare meminjam ide dari keduanya, tetapi lebih mengembangkan karakter pendukung, terutama Mercutio dan Paris, untuk memperluas jalan cerita. Ditulis antara tahun 1591 hingga 1595, Romeo, dan Julia pertama kali dipentaskan tahun 1597.\\nShakespeare menggunakan struktur dramatik. Efek seperti perubahan antara komedi, dan tragedi menjadi ketegangan yang memuncak, perluasan karakter kecil, dan penggunaan sub-plot untuk membubuhi cerita, telah dipuji sebagai salah satu tanda awal bakat dramatik Shakespeare. Drama ini berasal dari berbagai bentuk puisi, dan karakter, yang kadang-kadang mengubah jalur pengembangan karakter. Contohnya Romeo yang semakin mahir dalam menyusun soneta selama cerita berlangsung\\nRomeo dan Julia telah berkali-kali dipentaskan dalam bentuk drama, film, musikal, dan opera. Selama Restorasi Inggris, drama ini dihidupkan kembali, dan direvisi oleh William Davenant. David Garrick juga mengubah beberapa bagian, dan adaptasi opera oleh Georg Benda menghilangkan banyak aksi, dan menambah akhir yang bahagia. Penampilan pada abad ke-19, seperti oleh Charlotte Cushman, menggunakan naskah asli Romeo, dan Julia, dan lebih fokus pada realisme yang lebih besar. Pada abad ke-20, Romeo, dan Julia telah diadaptasi kedalam berbagai versi seperti film Romeo and Juliet tahun 1936. Di Indonesia sendiri, terjemahan ke dalam bahasa Indonesianya yang berjudul Romeo, dan Julia dilakukan oleh Trisno Sumardjo.[2]\\nRomeo dan Julia menggambarkan hubungan antara dua keluarga penting di Verona.[3]\\nCerita, yang bersetting di Verona, dimulai dengan terjadinya pertempuran di jalan antara keluarga Montague, dan Capulet. Pangeran Verona melerai, dan menyatakan jika terjadi kekerasan, akan dilaksanakan hukuman mati. Selanjutnya, Count Paris berbicara dengan Lord Capulet mengenai rencana menikahi putrinya, tetapi Capulet waspada karena usia Julia masih 13 tahun. Capulet meminta Paris untuk menunggu dua atau tiga tahun lagi, dan mengundangnya hadir pada pesta dansa Capulet. Lady Capulet, dan The Nurse mencoba memaksa Julia untuk menerima lamaran Paris.\\nSementara, pada keluarga Montague, Benvolio berbicara dengan sepupunya Romeo, putra Lord Montague, mengenai kemurungan Romeo. Benvolio lalu mengetahui bahwa penyebabnya adalah karena Romeo tergila-gila dengan Rosaline, salah satu keponakan Lord Capulet. Dipaksa oleh Benvolio, dan Mercutio, Romeo hadir pada pesta dansa Capulet dengan harapan bertemu Rosaline. Namun, Romeo justru jatuh cinta kepada Julia setelah menemuinya. Pada bagian yang sering disebut \"balcony scene\", Romeo mengendap-endap ke halaman Capulet, dan tidak sengaja mendengar ucapan Julia di balkonnya yang menyatakan cintanya kepada Romeo meskipun keluarganya benci dengan Montague. Romeo lalu muncul di depan Julia, dan mereka setuju untuk menikah. Atas bantuan Frater Lawrence, yang ingin kedua keluarga melakukan rekonsiliasi melalui bersatunya anak-anak mereka, Romeo, dan Julia menikah secara rahasia pada hari selanjutnya.\\nSepupu Julia, Tybalt, yang tahu bahwa Romeo telah menyusup ke pesta dansa Capulet, menantangnya. Romeo, yang menganggap Tybalt sebagai saudaranya, menolak bertempur. Mercutio yang tersinggung dengan ketidaksopanan Tybalt lalu bertarung dengan Tybalt atas nama Romeo. Mercutio terluka parah ketika Romeo mencoba menghentikan pertempuran. Karena merasa bersalah, Romeo lalu membunuh Tybalt.\\nMontague setuju bahwa tindakan Romeo mengeksekusi Tybalt adalah tindakan yang adik. Pangeran Verona lalu membuang Romeo dari Verona. Romeo lalu diam-diam menghabiskan malam di kamar Julia, dimana mereka menyelesaikan pernikahannya. Lord Capulet, yang menyalahartikan kesedihan Julia, setuju untuk menikahkannya dengan Paris, dan mengancam untuk tidak mengakuinya sebagai anak jika Julia menolak menikahi Paris. Julia meminta pernikahan ditunda, tetapi ibunya menolak.\\nJulia lalu mengunjungi Frater Lawrence untuk meminta bantuan, dan ia menawarkannya obat yang akan membuatnya seperti orang yang meninggal (tubuh dingin, tidak ada detak jantung, pucat) selama 42 jam.[4] Frater Lawrence berjanji untuk mengirim pesan mengenai rencana tersebut kepada Romeo, sehingga ia dapat bertemu dengan Julia ketika ia sudah terbangun. Pada malam sebelum pernikahan, Julia meminum obat, dan lalu dibaringkan di pemakaman keluarga setelah keluarganya menemukan Julia \"tewas\".\\nNamun, sang pembawa pesan tidak berhasil mencapai Romeo, dan ia mendapat informasi dari pelayannya Balthasar bahwa Julia meninggal. Patah hati, Romeo membeli racun dari seorang Apoteker, lalu pergi ke tempat Julia. Ia bertemu dengan Paris yang sedang melayat Julia. Mengira Romeo sebagai vandal, Paris menyerangnya, lalu Romeo berhasil membunuh Paris. Masih mengira bahwa Julia telah meninggal, ia meminum racun. Julia lalu terbangun, dan melihat Romeo tewas, sehingga ia bunuh diri dengan pisau. Kedua keluarga, dan Pangeran melihat Paris, Romeo, dan Julia tewas. Frater Lawrence lalu menceritakan kembali kisah Romeo, dan Julia. Keluarga Capulet, dan Montague lalu setuju mengakhiri permusuhan di antara mereka.[5]\\n']"
            ]
          },
          "metadata": {
            "tags": []
          },
          "execution_count": 4
        }
      ]
    },
    {
      "cell_type": "code",
      "metadata": {
        "id": "wHDKzgJ9LHtX"
      },
      "source": [
        "import pandas as pd\n",
        "import numpy as np"
      ],
      "execution_count": null,
      "outputs": []
    },
    {
      "cell_type": "code",
      "metadata": {
        "colab": {
          "base_uri": "https://localhost:8080/",
          "height": 197
        },
        "id": "J8PT2ihGN7ER",
        "outputId": "ad200de6-3de2-458c-8a7e-0817b1aa7aed"
      },
      "source": [
        "df = pd.DataFrame(\n",
        "    {'URL': URLs,\n",
        "     'Document': documents\n",
        "    })\n",
        "df.head()"
      ],
      "execution_count": null,
      "outputs": [
        {
          "output_type": "execute_result",
          "data": {
            "text/html": [
              "<div>\n",
              "<style scoped>\n",
              "    .dataframe tbody tr th:only-of-type {\n",
              "        vertical-align: middle;\n",
              "    }\n",
              "\n",
              "    .dataframe tbody tr th {\n",
              "        vertical-align: top;\n",
              "    }\n",
              "\n",
              "    .dataframe thead th {\n",
              "        text-align: right;\n",
              "    }\n",
              "</style>\n",
              "<table border=\"1\" class=\"dataframe\">\n",
              "  <thead>\n",
              "    <tr style=\"text-align: right;\">\n",
              "      <th></th>\n",
              "      <th>URL</th>\n",
              "      <th>Document</th>\n",
              "    </tr>\n",
              "  </thead>\n",
              "  <tbody>\n",
              "    <tr>\n",
              "      <th>0</th>\n",
              "      <td>https://id.wikipedia.org/wiki/Matahari_(novel)</td>\n",
              "      <td>Matahari adalah sebuah novel karya Tere Liye, ...</td>\n",
              "    </tr>\n",
              "    <tr>\n",
              "      <th>1</th>\n",
              "      <td>https://id.wikipedia.org/wiki/Kisah_Tanah_Jawa</td>\n",
              "      <td>Kisah Tanah Jawa adalah buku awal yang ditulis...</td>\n",
              "    </tr>\n",
              "    <tr>\n",
              "      <th>2</th>\n",
              "      <td>http://bukureview.com/romance/review-buku-nove...</td>\n",
              "      <td>Review Buku Novel Always and Forever oleh Jenn...</td>\n",
              "    </tr>\n",
              "    <tr>\n",
              "      <th>3</th>\n",
              "      <td>https://id.wikipedia.org/wiki/Manusia_Setengah...</td>\n",
              "      <td>Manusia Setengah Salmon adalah buku karya Radi...</td>\n",
              "    </tr>\n",
              "    <tr>\n",
              "      <th>4</th>\n",
              "      <td>http://bukureview.com/romance/review-buku-nove...</td>\n",
              "      <td>Review Buku Novel PS I Still Love You oleh Jen...</td>\n",
              "    </tr>\n",
              "  </tbody>\n",
              "</table>\n",
              "</div>"
            ],
            "text/plain": [
              "                                                 URL                                           Document\n",
              "0     https://id.wikipedia.org/wiki/Matahari_(novel)  Matahari adalah sebuah novel karya Tere Liye, ...\n",
              "1     https://id.wikipedia.org/wiki/Kisah_Tanah_Jawa  Kisah Tanah Jawa adalah buku awal yang ditulis...\n",
              "2  http://bukureview.com/romance/review-buku-nove...  Review Buku Novel Always and Forever oleh Jenn...\n",
              "3  https://id.wikipedia.org/wiki/Manusia_Setengah...  Manusia Setengah Salmon adalah buku karya Radi...\n",
              "4  http://bukureview.com/romance/review-buku-nove...  Review Buku Novel PS I Still Love You oleh Jen..."
            ]
          },
          "metadata": {
            "tags": []
          },
          "execution_count": 6
        }
      ]
    },
    {
      "cell_type": "markdown",
      "metadata": {
        "id": "tr9a1ZoOuj0x"
      },
      "source": [
        "#Preprocessing"
      ]
    },
    {
      "cell_type": "code",
      "metadata": {
        "colab": {
          "base_uri": "https://localhost:8080/"
        },
        "id": "AwlFeCxjqWfa",
        "outputId": "88f14aab-68d2-408b-9138-04431a593603"
      },
      "source": [
        "pip install Sastrawi"
      ],
      "execution_count": null,
      "outputs": [
        {
          "output_type": "stream",
          "text": [
            "Collecting Sastrawi\n",
            "\u001b[?25l  Downloading https://files.pythonhosted.org/packages/6f/4b/bab676953da3103003730b8fcdfadbdd20f333d4add10af949dd5c51e6ed/Sastrawi-1.0.1-py2.py3-none-any.whl (209kB)\n",
            "\r\u001b[K     |█▋                              | 10kB 22.9MB/s eta 0:00:01\r\u001b[K     |███▏                            | 20kB 28.1MB/s eta 0:00:01\r\u001b[K     |████▊                           | 30kB 13.2MB/s eta 0:00:01\r\u001b[K     |██████▎                         | 40kB 10.2MB/s eta 0:00:01\r\u001b[K     |███████▉                        | 51kB 8.2MB/s eta 0:00:01\r\u001b[K     |█████████▍                      | 61kB 8.6MB/s eta 0:00:01\r\u001b[K     |███████████                     | 71kB 8.1MB/s eta 0:00:01\r\u001b[K     |████████████▌                   | 81kB 8.7MB/s eta 0:00:01\r\u001b[K     |██████████████                  | 92kB 8.8MB/s eta 0:00:01\r\u001b[K     |███████████████▋                | 102kB 9.0MB/s eta 0:00:01\r\u001b[K     |█████████████████▏              | 112kB 9.0MB/s eta 0:00:01\r\u001b[K     |██████████████████▊             | 122kB 9.0MB/s eta 0:00:01\r\u001b[K     |████████████████████▎           | 133kB 9.0MB/s eta 0:00:01\r\u001b[K     |█████████████████████▉          | 143kB 9.0MB/s eta 0:00:01\r\u001b[K     |███████████████████████▍        | 153kB 9.0MB/s eta 0:00:01\r\u001b[K     |█████████████████████████       | 163kB 9.0MB/s eta 0:00:01\r\u001b[K     |██████████████████████████▋     | 174kB 9.0MB/s eta 0:00:01\r\u001b[K     |████████████████████████████▏   | 184kB 9.0MB/s eta 0:00:01\r\u001b[K     |█████████████████████████████▊  | 194kB 9.0MB/s eta 0:00:01\r\u001b[K     |███████████████████████████████▎| 204kB 9.0MB/s eta 0:00:01\r\u001b[K     |████████████████████████████████| 215kB 9.0MB/s \n",
            "\u001b[?25hInstalling collected packages: Sastrawi\n",
            "Successfully installed Sastrawi-1.0.1\n"
          ],
          "name": "stdout"
        }
      ]
    },
    {
      "cell_type": "code",
      "metadata": {
        "colab": {
          "base_uri": "https://localhost:8080/"
        },
        "id": "lJpWfbfPRo68",
        "outputId": "565eb06a-152f-4045-cdfa-27497b2751f2"
      },
      "source": [
        "import re\n",
        "import nltk\n",
        "from nltk.corpus import stopwords\n",
        "nltk.download(\"stopwords\")\n",
        "from Sastrawi.Stemmer.StemmerFactory import StemmerFactory"
      ],
      "execution_count": null,
      "outputs": [
        {
          "output_type": "stream",
          "text": [
            "[nltk_data] Downloading package stopwords to /root/nltk_data...\n",
            "[nltk_data]   Unzipping corpora/stopwords.zip.\n"
          ],
          "name": "stdout"
        }
      ]
    },
    {
      "cell_type": "code",
      "metadata": {
        "id": "PJLXEAk9RpAV"
      },
      "source": [
        "def preprocessing(doc):\n",
        "  words = re.sub(r'[^A-Za-z \\t]', ' ', doc) #cleaning\n",
        "  words = words.lower() #case folding\n",
        "  words = words.split() #tokenization\n",
        "  factory = StemmerFactory()\n",
        "  stemmer = factory.create_stemmer()\n",
        "  st_words = stopwords.words('indonesian')\n",
        "  words = [stemmer.stem(word) for word in words if not word in set(st_words)] #stemming dan stopword removal\n",
        "  #return words \n",
        "  return ((' '.join(words)).replace('\\n','')).replace('\\t','')"
      ],
      "execution_count": null,
      "outputs": []
    },
    {
      "cell_type": "code",
      "metadata": {
        "colab": {
          "base_uri": "https://localhost:8080/",
          "height": 35
        },
        "id": "V-F2wQm8pAca",
        "outputId": "27024947-0142-4212-c385-d98108cfdc61"
      },
      "source": [
        "# Test fungsi preprocessing\n",
        "preprocessing('''Halo nama saya Trifebi Shina Sabrila, saya adalah anak ke 3 dari 3 bersaudara, saya sangat suka makan pedas oleh karena itu saya sering dimarahi oleh nenek\n",
        "saya karena usus saya bisa saja tidak kuat. \\\\[: Memang dan dia adalah yaitu oleh suka memakan meminum, bekerja, berjalan, dipantai, aku mencintai kamu @@3$%%''')"
      ],
      "execution_count": null,
      "outputs": [
        {
          "output_type": "execute_result",
          "data": {
            "application/vnd.google.colaboratory.intrinsic+json": {
              "type": "string"
            },
            "text/plain": [
              "'halo nama trifebi shina sabrila anak saudara suka makan pedas marah nenek usus kuat suka makan minum jalan pantai cinta'"
            ]
          },
          "metadata": {
            "tags": []
          },
          "execution_count": 10
        }
      ]
    },
    {
      "cell_type": "code",
      "metadata": {
        "id": "YrAZtWNdmqMH",
        "colab": {
          "base_uri": "https://localhost:8080/",
          "height": 497
        },
        "outputId": "fafa0eb2-ff4c-4f03-a938-97bc49a36b01"
      },
      "source": [
        "df['Document'] = df['Document'].apply(preprocessing)\n",
        "df"
      ],
      "execution_count": null,
      "outputs": [
        {
          "output_type": "execute_result",
          "data": {
            "text/html": [
              "<div>\n",
              "<style scoped>\n",
              "    .dataframe tbody tr th:only-of-type {\n",
              "        vertical-align: middle;\n",
              "    }\n",
              "\n",
              "    .dataframe tbody tr th {\n",
              "        vertical-align: top;\n",
              "    }\n",
              "\n",
              "    .dataframe thead th {\n",
              "        text-align: right;\n",
              "    }\n",
              "</style>\n",
              "<table border=\"1\" class=\"dataframe\">\n",
              "  <thead>\n",
              "    <tr style=\"text-align: right;\">\n",
              "      <th></th>\n",
              "      <th>URL</th>\n",
              "      <th>Document</th>\n",
              "    </tr>\n",
              "  </thead>\n",
              "  <tbody>\n",
              "    <tr>\n",
              "      <th>0</th>\n",
              "      <td>https://id.wikipedia.org/wiki/Matahari_(novel)</td>\n",
              "      <td>matahari novel karya tere liye novel tiga seri...</td>\n",
              "    </tr>\n",
              "    <tr>\n",
              "      <th>1</th>\n",
              "      <td>https://id.wikipedia.org/wiki/Kisah_Tanah_Jawa</td>\n",
              "      <td>kisah tanah jawa buku tulis kisah tanah jawa t...</td>\n",
              "    </tr>\n",
              "    <tr>\n",
              "      <th>2</th>\n",
              "      <td>http://bukureview.com/romance/review-buku-nove...</td>\n",
              "      <td>review buku novel always and forever jenny han...</td>\n",
              "    </tr>\n",
              "    <tr>\n",
              "      <th>3</th>\n",
              "      <td>https://id.wikipedia.org/wiki/Manusia_Setengah...</td>\n",
              "      <td>manusia salmon buku karya raditya dika enam te...</td>\n",
              "    </tr>\n",
              "    <tr>\n",
              "      <th>4</th>\n",
              "      <td>http://bukureview.com/romance/review-buku-nove...</td>\n",
              "      <td>review buku novel ps i still love you jenny ha...</td>\n",
              "    </tr>\n",
              "    <tr>\n",
              "      <th>5</th>\n",
              "      <td>http://bukureview.com/novel/review-buku-novel-...</td>\n",
              "      <td>review buku novel everything everything nicola...</td>\n",
              "    </tr>\n",
              "    <tr>\n",
              "      <th>6</th>\n",
              "      <td>https://id.wikipedia.org/wiki/Tiga_Sandera_Ter...</td>\n",
              "      <td>sandera novel thriller militer karya brahmanto...</td>\n",
              "    </tr>\n",
              "    <tr>\n",
              "      <th>7</th>\n",
              "      <td>http://bukureview.com/novel/review-buku-novel-...</td>\n",
              "      <td>review buku novel the god game danny tobey buk...</td>\n",
              "    </tr>\n",
              "    <tr>\n",
              "      <th>8</th>\n",
              "      <td>http://bukureview.com/novel/review-buku-novel-...</td>\n",
              "      <td>review buku novel my lovely wife buku buku bag...</td>\n",
              "    </tr>\n",
              "    <tr>\n",
              "      <th>9</th>\n",
              "      <td>http://bukureview.com/novel/review-buku-novel-...</td>\n",
              "      <td>review buku novel the love that split the worl...</td>\n",
              "    </tr>\n",
              "    <tr>\n",
              "      <th>10</th>\n",
              "      <td>https://id.wikipedia.org/wiki/Divergent</td>\n",
              "      <td>divergent novel fiksi ilmiah karya tulis ameri...</td>\n",
              "    </tr>\n",
              "    <tr>\n",
              "      <th>11</th>\n",
              "      <td>https://rusnanianwar.com/2020/06/17/cantik-itu...</td>\n",
              "      <td>for the benefit of mr kitedaily ramblingseka k...</td>\n",
              "    </tr>\n",
              "    <tr>\n",
              "      <th>12</th>\n",
              "      <td>https://id.wikipedia.org/wiki/Bukan_Pasar_Malam</td>\n",
              "      <td>pasar malam novel karang pramoedya ananta toer...</td>\n",
              "    </tr>\n",
              "    <tr>\n",
              "      <th>13</th>\n",
              "      <td>http://bukureview.com/novel/review-buku-novel-...</td>\n",
              "      <td>review buku novel the sun is also a star nicol...</td>\n",
              "    </tr>\n",
              "    <tr>\n",
              "      <th>14</th>\n",
              "      <td>https://id.wikipedia.org/wiki/Romeo_dan_Julia</td>\n",
              "      <td>romeo julia tragedi karya william shakespeare ...</td>\n",
              "    </tr>\n",
              "  </tbody>\n",
              "</table>\n",
              "</div>"
            ],
            "text/plain": [
              "                                                  URL                                           Document\n",
              "0      https://id.wikipedia.org/wiki/Matahari_(novel)  matahari novel karya tere liye novel tiga seri...\n",
              "1      https://id.wikipedia.org/wiki/Kisah_Tanah_Jawa  kisah tanah jawa buku tulis kisah tanah jawa t...\n",
              "2   http://bukureview.com/romance/review-buku-nove...  review buku novel always and forever jenny han...\n",
              "3   https://id.wikipedia.org/wiki/Manusia_Setengah...  manusia salmon buku karya raditya dika enam te...\n",
              "4   http://bukureview.com/romance/review-buku-nove...  review buku novel ps i still love you jenny ha...\n",
              "5   http://bukureview.com/novel/review-buku-novel-...  review buku novel everything everything nicola...\n",
              "6   https://id.wikipedia.org/wiki/Tiga_Sandera_Ter...  sandera novel thriller militer karya brahmanto...\n",
              "7   http://bukureview.com/novel/review-buku-novel-...  review buku novel the god game danny tobey buk...\n",
              "8   http://bukureview.com/novel/review-buku-novel-...  review buku novel my lovely wife buku buku bag...\n",
              "9   http://bukureview.com/novel/review-buku-novel-...  review buku novel the love that split the worl...\n",
              "10            https://id.wikipedia.org/wiki/Divergent  divergent novel fiksi ilmiah karya tulis ameri...\n",
              "11  https://rusnanianwar.com/2020/06/17/cantik-itu...  for the benefit of mr kitedaily ramblingseka k...\n",
              "12    https://id.wikipedia.org/wiki/Bukan_Pasar_Malam  pasar malam novel karang pramoedya ananta toer...\n",
              "13  http://bukureview.com/novel/review-buku-novel-...  review buku novel the sun is also a star nicol...\n",
              "14      https://id.wikipedia.org/wiki/Romeo_dan_Julia  romeo julia tragedi karya william shakespeare ..."
            ]
          },
          "metadata": {
            "tags": []
          },
          "execution_count": 11
        }
      ]
    },
    {
      "cell_type": "markdown",
      "metadata": {
        "id": "0jg48xhIunjM"
      },
      "source": [
        "# Indexing - Term Weighting"
      ]
    },
    {
      "cell_type": "code",
      "metadata": {
        "id": "Auod9mlpuqAn"
      },
      "source": [
        "from sklearn.feature_extraction.text import TfidfVectorizer\n",
        "\n",
        "def tf_idf(search_keys, dataframe):\n",
        "  \n",
        "\ttfidf_vectorizer = TfidfVectorizer()\n",
        "\ttfidf_weights_matrix = tfidf_vectorizer.fit_transform(dataframe)\n",
        "\tkeys_weights_matrix = tfidf_vectorizer.transform([search_keys])\n",
        "\t\n",
        "\treturn keys_weights_matrix, tfidf_weights_matrix"
      ],
      "execution_count": null,
      "outputs": []
    },
    {
      "cell_type": "code",
      "metadata": {
        "colab": {
          "base_uri": "https://localhost:8080/"
        },
        "id": "Uaw1Cqn2r_lU",
        "outputId": "32972e6f-5e59-4130-d9b9-2e5fa87bbf2e"
      },
      "source": [
        "#'kisah romantis tokoh remaja sekolah saling jatuh cinta'\n",
        "key, matriks = tf_idf(input('Enter search query: '), df['Document'])\n",
        "print(matriks)"
      ],
      "execution_count": null,
      "outputs": [
        {
          "output_type": "stream",
          "text": [
            "Enter search query: kisah romantis remaja jatuh cinta\n",
            "  (0, 883)\t0.02753507984589114\n",
            "  (0, 1096)\t0.023909580230012432\n",
            "  (0, 1452)\t0.023909580230012432\n",
            "  (0, 78)\t0.02753507984589114\n",
            "  (0, 479)\t0.023909580230012432\n",
            "  (0, 244)\t0.01934199089689884\n",
            "  (0, 779)\t0.01934199089689884\n",
            "  (0, 930)\t0.021337247315756126\n",
            "  (0, 216)\t0.021337247315756126\n",
            "  (0, 1124)\t0.023909580230012432\n",
            "  (0, 708)\t0.023909580230012432\n",
            "  (0, 1415)\t0.02753507984589114\n",
            "  (0, 1131)\t0.023909580230012432\n",
            "  (0, 1089)\t0.023909580230012432\n",
            "  (0, 567)\t0.02753507984589114\n",
            "  (0, 954)\t0.047819160460024865\n",
            "  (0, 488)\t0.021337247315756126\n",
            "  (0, 731)\t0.02753507984589114\n",
            "  (0, 148)\t0.023909580230012432\n",
            "  (0, 948)\t0.02753507984589114\n",
            "  (0, 1407)\t0.02753507984589114\n",
            "  (0, 573)\t0.02753507984589114\n",
            "  (0, 611)\t0.02753507984589114\n",
            "  (0, 1376)\t0.023909580230012432\n",
            "  (0, 123)\t0.017711747699877413\n",
            "  :\t:\n",
            "  (14, 1314)\t0.01515790122214811\n",
            "  (14, 755)\t0.01515790122214811\n",
            "  (14, 1563)\t0.01515790122214811\n",
            "  (14, 1533)\t0.06063160488859244\n",
            "  (14, 1029)\t0.0072994501427538095\n",
            "  (14, 683)\t0.11228675682450961\n",
            "  (14, 526)\t0.0103548457007007\n",
            "  (14, 448)\t0.03031580244429622\n",
            "  (14, 535)\t0.01122867568245096\n",
            "  (14, 515)\t0.00779268929065842\n",
            "  (14, 589)\t0.016665943295950038\n",
            "  (14, 1453)\t0.038963446453292104\n",
            "  (14, 27)\t0.01226219718767217\n",
            "  (14, 967)\t0.0103548457007007\n",
            "  (14, 268)\t0.02705425056009928\n",
            "  (14, 1549)\t0.04491470272980384\n",
            "  (14, 166)\t0.045473703666444334\n",
            "  (14, 1496)\t0.03031580244429622\n",
            "  (14, 502)\t0.02245735136490192\n",
            "  (14, 213)\t0.008930226084852281\n",
            "  (14, 55)\t0.024998914943925057\n",
            "  (14, 1424)\t0.01352712528004964\n",
            "  (14, 1472)\t0.045473703666444334\n",
            "  (14, 646)\t0.031064537102102097\n",
            "  (14, 662)\t0.03839159896140996\n"
          ],
          "name": "stdout"
        }
      ]
    },
    {
      "cell_type": "markdown",
      "metadata": {
        "id": "lhYujqkCuqaw"
      },
      "source": [
        "# Retrieve & Perankingan"
      ]
    },
    {
      "cell_type": "code",
      "metadata": {
        "id": "s-8DQz0WuuCu"
      },
      "source": [
        "from sklearn.metrics.pairwise import cosine_similarity\n",
        "from sklearn.metrics.pairwise import euclidean_distances\n",
        "from sklearn.metrics.pairwise import manhattan_distances\n",
        "from sklearn.metrics import jaccard_similarity_score\n",
        "import sklearn"
      ],
      "execution_count": null,
      "outputs": []
    },
    {
      "cell_type": "markdown",
      "metadata": {
        "id": "As0Ybcj8giJU"
      },
      "source": [
        "**Euclidean Distance**"
      ]
    },
    {
      "cell_type": "code",
      "metadata": {
        "id": "77zMADMcjQCx"
      },
      "source": [
        "def euc_dist(search_query_weights, tfidf_weights_matrix):\n",
        "\t\n",
        "\teuclidean_dist = euclidean_distances(search_query_weights, tfidf_weights_matrix)\n",
        "\tscore_dist = euclidean_dist[0]\n",
        "  \n",
        "\treturn score_dist"
      ],
      "execution_count": null,
      "outputs": []
    },
    {
      "cell_type": "code",
      "metadata": {
        "colab": {
          "base_uri": "https://localhost:8080/"
        },
        "id": "zC2YzYlPjQdp",
        "outputId": "c62dba89-f02d-4db6-b098-18d2ddcc0080"
      },
      "source": [
        "score_dist = euc_dist(key, matriks)\n",
        "print(score_dist)"
      ],
      "execution_count": null,
      "outputs": [
        {
          "output_type": "stream",
          "text": [
            "[1.41421356 1.38543281 1.33630874 1.37334027 1.40475602 1.34828903\n",
            " 1.40949095 1.38118735 1.36855341 1.38412805 1.38166201 1.40028957\n",
            " 1.3810275  1.33481416 1.3967924 ]\n"
          ],
          "name": "stdout"
        }
      ]
    },
    {
      "cell_type": "code",
      "metadata": {
        "colab": {
          "base_uri": "https://localhost:8080/",
          "height": 197
        },
        "id": "48rj-rAhhGAI",
        "outputId": "988f9ef5-04ff-4af3-cfe9-5bb17f474cd5"
      },
      "source": [
        "df_euclidean = df\n",
        "df_euclidean.drop('Document', inplace=True, axis=1)\n",
        "df_euclidean.index = np.arange(1, len(df_euclidean)+1)\n",
        "df_euclidean.head()"
      ],
      "execution_count": null,
      "outputs": [
        {
          "output_type": "execute_result",
          "data": {
            "text/html": [
              "<div>\n",
              "<style scoped>\n",
              "    .dataframe tbody tr th:only-of-type {\n",
              "        vertical-align: middle;\n",
              "    }\n",
              "\n",
              "    .dataframe tbody tr th {\n",
              "        vertical-align: top;\n",
              "    }\n",
              "\n",
              "    .dataframe thead th {\n",
              "        text-align: right;\n",
              "    }\n",
              "</style>\n",
              "<table border=\"1\" class=\"dataframe\">\n",
              "  <thead>\n",
              "    <tr style=\"text-align: right;\">\n",
              "      <th></th>\n",
              "      <th>URL</th>\n",
              "    </tr>\n",
              "  </thead>\n",
              "  <tbody>\n",
              "    <tr>\n",
              "      <th>1</th>\n",
              "      <td>https://id.wikipedia.org/wiki/Matahari_(novel)</td>\n",
              "    </tr>\n",
              "    <tr>\n",
              "      <th>2</th>\n",
              "      <td>https://id.wikipedia.org/wiki/Kisah_Tanah_Jawa</td>\n",
              "    </tr>\n",
              "    <tr>\n",
              "      <th>3</th>\n",
              "      <td>http://bukureview.com/romance/review-buku-nove...</td>\n",
              "    </tr>\n",
              "    <tr>\n",
              "      <th>4</th>\n",
              "      <td>https://id.wikipedia.org/wiki/Manusia_Setengah...</td>\n",
              "    </tr>\n",
              "    <tr>\n",
              "      <th>5</th>\n",
              "      <td>http://bukureview.com/romance/review-buku-nove...</td>\n",
              "    </tr>\n",
              "  </tbody>\n",
              "</table>\n",
              "</div>"
            ],
            "text/plain": [
              "                                                 URL\n",
              "1     https://id.wikipedia.org/wiki/Matahari_(novel)\n",
              "2     https://id.wikipedia.org/wiki/Kisah_Tanah_Jawa\n",
              "3  http://bukureview.com/romance/review-buku-nove...\n",
              "4  https://id.wikipedia.org/wiki/Manusia_Setengah...\n",
              "5  http://bukureview.com/romance/review-buku-nove..."
            ]
          },
          "metadata": {
            "tags": []
          },
          "execution_count": 17
        }
      ]
    },
    {
      "cell_type": "code",
      "metadata": {
        "colab": {
          "base_uri": "https://localhost:8080/",
          "height": 227
        },
        "id": "uA6qP5FqiLMD",
        "outputId": "b6dae497-f380-4ee8-9b7b-3655dda527fd"
      },
      "source": [
        "df_euclidean['Similarity Score'] = score_dist\n",
        "#df_euclidean['Query'] = 'kisah romantis tokoh remaja sekolah saling jatuh cinta'\n",
        "#df_euclidean.rename({'Document': 'Comparing Sentence'}, axis=1, inplace=True)\n",
        "df_euclidean.index.name = 'Dokumen ke-'\n",
        "df_euclidean.head()"
      ],
      "execution_count": null,
      "outputs": [
        {
          "output_type": "execute_result",
          "data": {
            "text/html": [
              "<div>\n",
              "<style scoped>\n",
              "    .dataframe tbody tr th:only-of-type {\n",
              "        vertical-align: middle;\n",
              "    }\n",
              "\n",
              "    .dataframe tbody tr th {\n",
              "        vertical-align: top;\n",
              "    }\n",
              "\n",
              "    .dataframe thead th {\n",
              "        text-align: right;\n",
              "    }\n",
              "</style>\n",
              "<table border=\"1\" class=\"dataframe\">\n",
              "  <thead>\n",
              "    <tr style=\"text-align: right;\">\n",
              "      <th></th>\n",
              "      <th>URL</th>\n",
              "      <th>Similarity Score</th>\n",
              "    </tr>\n",
              "    <tr>\n",
              "      <th>Dokumen ke-</th>\n",
              "      <th></th>\n",
              "      <th></th>\n",
              "    </tr>\n",
              "  </thead>\n",
              "  <tbody>\n",
              "    <tr>\n",
              "      <th>1</th>\n",
              "      <td>https://id.wikipedia.org/wiki/Matahari_(novel)</td>\n",
              "      <td>1.414214</td>\n",
              "    </tr>\n",
              "    <tr>\n",
              "      <th>2</th>\n",
              "      <td>https://id.wikipedia.org/wiki/Kisah_Tanah_Jawa</td>\n",
              "      <td>1.385433</td>\n",
              "    </tr>\n",
              "    <tr>\n",
              "      <th>3</th>\n",
              "      <td>http://bukureview.com/romance/review-buku-nove...</td>\n",
              "      <td>1.336309</td>\n",
              "    </tr>\n",
              "    <tr>\n",
              "      <th>4</th>\n",
              "      <td>https://id.wikipedia.org/wiki/Manusia_Setengah...</td>\n",
              "      <td>1.373340</td>\n",
              "    </tr>\n",
              "    <tr>\n",
              "      <th>5</th>\n",
              "      <td>http://bukureview.com/romance/review-buku-nove...</td>\n",
              "      <td>1.404756</td>\n",
              "    </tr>\n",
              "  </tbody>\n",
              "</table>\n",
              "</div>"
            ],
            "text/plain": [
              "                                                           URL  Similarity Score\n",
              "Dokumen ke-                                                                     \n",
              "1               https://id.wikipedia.org/wiki/Matahari_(novel)          1.414214\n",
              "2               https://id.wikipedia.org/wiki/Kisah_Tanah_Jawa          1.385433\n",
              "3            http://bukureview.com/romance/review-buku-nove...          1.336309\n",
              "4            https://id.wikipedia.org/wiki/Manusia_Setengah...          1.373340\n",
              "5            http://bukureview.com/romance/review-buku-nove...          1.404756"
            ]
          },
          "metadata": {
            "tags": []
          },
          "execution_count": 18
        }
      ]
    },
    {
      "cell_type": "code",
      "metadata": {
        "colab": {
          "base_uri": "https://localhost:8080/",
          "height": 227
        },
        "id": "AZExZN7Dn4fn",
        "outputId": "f0caa2ee-2da0-4458-9699-de827801cc35"
      },
      "source": [
        "df_euclidean = df_euclidean.sort_values(by=['Similarity Score'], ascending=True)\n",
        "df_euclidean['Rank'] = list(range(1, 16))\n",
        "df_euclidean = df_euclidean.set_index('Rank', append=True)\n",
        "df_euclidean.head()"
      ],
      "execution_count": null,
      "outputs": [
        {
          "output_type": "execute_result",
          "data": {
            "text/html": [
              "<div>\n",
              "<style scoped>\n",
              "    .dataframe tbody tr th:only-of-type {\n",
              "        vertical-align: middle;\n",
              "    }\n",
              "\n",
              "    .dataframe tbody tr th {\n",
              "        vertical-align: top;\n",
              "    }\n",
              "\n",
              "    .dataframe thead th {\n",
              "        text-align: right;\n",
              "    }\n",
              "</style>\n",
              "<table border=\"1\" class=\"dataframe\">\n",
              "  <thead>\n",
              "    <tr style=\"text-align: right;\">\n",
              "      <th></th>\n",
              "      <th></th>\n",
              "      <th>URL</th>\n",
              "      <th>Similarity Score</th>\n",
              "    </tr>\n",
              "    <tr>\n",
              "      <th>Dokumen ke-</th>\n",
              "      <th>Rank</th>\n",
              "      <th></th>\n",
              "      <th></th>\n",
              "    </tr>\n",
              "  </thead>\n",
              "  <tbody>\n",
              "    <tr>\n",
              "      <th>14</th>\n",
              "      <th>1</th>\n",
              "      <td>http://bukureview.com/novel/review-buku-novel-...</td>\n",
              "      <td>1.334814</td>\n",
              "    </tr>\n",
              "    <tr>\n",
              "      <th>3</th>\n",
              "      <th>2</th>\n",
              "      <td>http://bukureview.com/romance/review-buku-nove...</td>\n",
              "      <td>1.336309</td>\n",
              "    </tr>\n",
              "    <tr>\n",
              "      <th>6</th>\n",
              "      <th>3</th>\n",
              "      <td>http://bukureview.com/novel/review-buku-novel-...</td>\n",
              "      <td>1.348289</td>\n",
              "    </tr>\n",
              "    <tr>\n",
              "      <th>9</th>\n",
              "      <th>4</th>\n",
              "      <td>http://bukureview.com/novel/review-buku-novel-...</td>\n",
              "      <td>1.368553</td>\n",
              "    </tr>\n",
              "    <tr>\n",
              "      <th>4</th>\n",
              "      <th>5</th>\n",
              "      <td>https://id.wikipedia.org/wiki/Manusia_Setengah...</td>\n",
              "      <td>1.373340</td>\n",
              "    </tr>\n",
              "  </tbody>\n",
              "</table>\n",
              "</div>"
            ],
            "text/plain": [
              "                                                                URL  Similarity Score\n",
              "Dokumen ke- Rank                                                                     \n",
              "14          1     http://bukureview.com/novel/review-buku-novel-...          1.334814\n",
              "3           2     http://bukureview.com/romance/review-buku-nove...          1.336309\n",
              "6           3     http://bukureview.com/novel/review-buku-novel-...          1.348289\n",
              "9           4     http://bukureview.com/novel/review-buku-novel-...          1.368553\n",
              "4           5     https://id.wikipedia.org/wiki/Manusia_Setengah...          1.373340"
            ]
          },
          "metadata": {
            "tags": []
          },
          "execution_count": 19
        }
      ]
    },
    {
      "cell_type": "code",
      "metadata": {
        "id": "eWc2l2JbW1ao"
      },
      "source": [
        "def make_clickable(val):\n",
        "    return '<a target=\"_blank\" href=\"{}\">{}</a>'.format(val, val)"
      ],
      "execution_count": null,
      "outputs": []
    },
    {
      "cell_type": "code",
      "metadata": {
        "colab": {
          "base_uri": "https://localhost:8080/",
          "height": 320
        },
        "id": "YIZKSd2BikbI",
        "outputId": "c26e3c7e-7b53-4bd1-c575-286560dece29"
      },
      "source": [
        "df_euclidean.style.format({'URL': make_clickable})"
      ],
      "execution_count": null,
      "outputs": [
        {
          "output_type": "execute_result",
          "data": {
            "text/html": [
              "<style  type=\"text/css\" >\n",
              "</style><table id=\"T_3d2304a6_5607_11eb_8e78_0242ac1c0002\" ><thead>    <tr>        <th class=\"blank\" ></th>        <th class=\"blank level0\" ></th>        <th class=\"col_heading level0 col0\" >URL</th>        <th class=\"col_heading level0 col1\" >Similarity Score</th>    </tr>    <tr>        <th class=\"index_name level0\" >Dokumen ke-</th>        <th class=\"index_name level1\" >Rank</th>        <th class=\"blank\" ></th>        <th class=\"blank\" ></th>    </tr></thead><tbody>\n",
              "                <tr>\n",
              "                        <th id=\"T_3d2304a6_5607_11eb_8e78_0242ac1c0002level0_row0\" class=\"row_heading level0 row0\" >14</th>\n",
              "                        <th id=\"T_3d2304a6_5607_11eb_8e78_0242ac1c0002level1_row0\" class=\"row_heading level1 row0\" >1</th>\n",
              "                        <td id=\"T_3d2304a6_5607_11eb_8e78_0242ac1c0002row0_col0\" class=\"data row0 col0\" ><a target=\"_blank\" href=\"http://bukureview.com/novel/review-buku-novel-sun-also-star-oleh-nicola-yoon/\">http://bukureview.com/novel/review-buku-novel-sun-also-star-oleh-nicola-yoon/</a></td>\n",
              "                        <td id=\"T_3d2304a6_5607_11eb_8e78_0242ac1c0002row0_col1\" class=\"data row0 col1\" >1.334814</td>\n",
              "            </tr>\n",
              "            <tr>\n",
              "                        <th id=\"T_3d2304a6_5607_11eb_8e78_0242ac1c0002level0_row1\" class=\"row_heading level0 row1\" >3</th>\n",
              "                        <th id=\"T_3d2304a6_5607_11eb_8e78_0242ac1c0002level1_row1\" class=\"row_heading level1 row1\" >2</th>\n",
              "                        <td id=\"T_3d2304a6_5607_11eb_8e78_0242ac1c0002row1_col0\" class=\"data row1 col0\" ><a target=\"_blank\" href=\"http://bukureview.com/romance/review-buku-novel-always-and-forever-oleh-jenny-han/\">http://bukureview.com/romance/review-buku-novel-always-and-forever-oleh-jenny-han/</a></td>\n",
              "                        <td id=\"T_3d2304a6_5607_11eb_8e78_0242ac1c0002row1_col1\" class=\"data row1 col1\" >1.336309</td>\n",
              "            </tr>\n",
              "            <tr>\n",
              "                        <th id=\"T_3d2304a6_5607_11eb_8e78_0242ac1c0002level0_row2\" class=\"row_heading level0 row2\" >6</th>\n",
              "                        <th id=\"T_3d2304a6_5607_11eb_8e78_0242ac1c0002level1_row2\" class=\"row_heading level1 row2\" >3</th>\n",
              "                        <td id=\"T_3d2304a6_5607_11eb_8e78_0242ac1c0002row2_col0\" class=\"data row2 col0\" ><a target=\"_blank\" href=\"http://bukureview.com/novel/review-buku-novel-everything-everything-oleh-nicola-yoon/\">http://bukureview.com/novel/review-buku-novel-everything-everything-oleh-nicola-yoon/</a></td>\n",
              "                        <td id=\"T_3d2304a6_5607_11eb_8e78_0242ac1c0002row2_col1\" class=\"data row2 col1\" >1.348289</td>\n",
              "            </tr>\n",
              "            <tr>\n",
              "                        <th id=\"T_3d2304a6_5607_11eb_8e78_0242ac1c0002level0_row3\" class=\"row_heading level0 row3\" >9</th>\n",
              "                        <th id=\"T_3d2304a6_5607_11eb_8e78_0242ac1c0002level1_row3\" class=\"row_heading level1 row3\" >4</th>\n",
              "                        <td id=\"T_3d2304a6_5607_11eb_8e78_0242ac1c0002row3_col0\" class=\"data row3 col0\" ><a target=\"_blank\" href=\"http://bukureview.com/novel/review-buku-novel-lovely-wife/\">http://bukureview.com/novel/review-buku-novel-lovely-wife/</a></td>\n",
              "                        <td id=\"T_3d2304a6_5607_11eb_8e78_0242ac1c0002row3_col1\" class=\"data row3 col1\" >1.368553</td>\n",
              "            </tr>\n",
              "            <tr>\n",
              "                        <th id=\"T_3d2304a6_5607_11eb_8e78_0242ac1c0002level0_row4\" class=\"row_heading level0 row4\" >4</th>\n",
              "                        <th id=\"T_3d2304a6_5607_11eb_8e78_0242ac1c0002level1_row4\" class=\"row_heading level1 row4\" >5</th>\n",
              "                        <td id=\"T_3d2304a6_5607_11eb_8e78_0242ac1c0002row4_col0\" class=\"data row4 col0\" ><a target=\"_blank\" href=\"https://id.wikipedia.org/wiki/Manusia_Setengah_Salmon\">https://id.wikipedia.org/wiki/Manusia_Setengah_Salmon</a></td>\n",
              "                        <td id=\"T_3d2304a6_5607_11eb_8e78_0242ac1c0002row4_col1\" class=\"data row4 col1\" >1.373340</td>\n",
              "            </tr>\n",
              "            <tr>\n",
              "                        <th id=\"T_3d2304a6_5607_11eb_8e78_0242ac1c0002level0_row5\" class=\"row_heading level0 row5\" >13</th>\n",
              "                        <th id=\"T_3d2304a6_5607_11eb_8e78_0242ac1c0002level1_row5\" class=\"row_heading level1 row5\" >6</th>\n",
              "                        <td id=\"T_3d2304a6_5607_11eb_8e78_0242ac1c0002row5_col0\" class=\"data row5 col0\" ><a target=\"_blank\" href=\"https://id.wikipedia.org/wiki/Bukan_Pasar_Malam\">https://id.wikipedia.org/wiki/Bukan_Pasar_Malam</a></td>\n",
              "                        <td id=\"T_3d2304a6_5607_11eb_8e78_0242ac1c0002row5_col1\" class=\"data row5 col1\" >1.381027</td>\n",
              "            </tr>\n",
              "            <tr>\n",
              "                        <th id=\"T_3d2304a6_5607_11eb_8e78_0242ac1c0002level0_row6\" class=\"row_heading level0 row6\" >8</th>\n",
              "                        <th id=\"T_3d2304a6_5607_11eb_8e78_0242ac1c0002level1_row6\" class=\"row_heading level1 row6\" >7</th>\n",
              "                        <td id=\"T_3d2304a6_5607_11eb_8e78_0242ac1c0002row6_col0\" class=\"data row6 col0\" ><a target=\"_blank\" href=\"http://bukureview.com/novel/review-buku-novel-god-game-oleh-danny-tobey/\">http://bukureview.com/novel/review-buku-novel-god-game-oleh-danny-tobey/</a></td>\n",
              "                        <td id=\"T_3d2304a6_5607_11eb_8e78_0242ac1c0002row6_col1\" class=\"data row6 col1\" >1.381187</td>\n",
              "            </tr>\n",
              "            <tr>\n",
              "                        <th id=\"T_3d2304a6_5607_11eb_8e78_0242ac1c0002level0_row7\" class=\"row_heading level0 row7\" >11</th>\n",
              "                        <th id=\"T_3d2304a6_5607_11eb_8e78_0242ac1c0002level1_row7\" class=\"row_heading level1 row7\" >8</th>\n",
              "                        <td id=\"T_3d2304a6_5607_11eb_8e78_0242ac1c0002row7_col0\" class=\"data row7 col0\" ><a target=\"_blank\" href=\"https://id.wikipedia.org/wiki/Divergent\">https://id.wikipedia.org/wiki/Divergent</a></td>\n",
              "                        <td id=\"T_3d2304a6_5607_11eb_8e78_0242ac1c0002row7_col1\" class=\"data row7 col1\" >1.381662</td>\n",
              "            </tr>\n",
              "            <tr>\n",
              "                        <th id=\"T_3d2304a6_5607_11eb_8e78_0242ac1c0002level0_row8\" class=\"row_heading level0 row8\" >10</th>\n",
              "                        <th id=\"T_3d2304a6_5607_11eb_8e78_0242ac1c0002level1_row8\" class=\"row_heading level1 row8\" >9</th>\n",
              "                        <td id=\"T_3d2304a6_5607_11eb_8e78_0242ac1c0002row8_col0\" class=\"data row8 col0\" ><a target=\"_blank\" href=\"http://bukureview.com/novel/review-buku-novel-love-split-world/\">http://bukureview.com/novel/review-buku-novel-love-split-world/</a></td>\n",
              "                        <td id=\"T_3d2304a6_5607_11eb_8e78_0242ac1c0002row8_col1\" class=\"data row8 col1\" >1.384128</td>\n",
              "            </tr>\n",
              "            <tr>\n",
              "                        <th id=\"T_3d2304a6_5607_11eb_8e78_0242ac1c0002level0_row9\" class=\"row_heading level0 row9\" >2</th>\n",
              "                        <th id=\"T_3d2304a6_5607_11eb_8e78_0242ac1c0002level1_row9\" class=\"row_heading level1 row9\" >10</th>\n",
              "                        <td id=\"T_3d2304a6_5607_11eb_8e78_0242ac1c0002row9_col0\" class=\"data row9 col0\" ><a target=\"_blank\" href=\"https://id.wikipedia.org/wiki/Kisah_Tanah_Jawa\">https://id.wikipedia.org/wiki/Kisah_Tanah_Jawa</a></td>\n",
              "                        <td id=\"T_3d2304a6_5607_11eb_8e78_0242ac1c0002row9_col1\" class=\"data row9 col1\" >1.385433</td>\n",
              "            </tr>\n",
              "            <tr>\n",
              "                        <th id=\"T_3d2304a6_5607_11eb_8e78_0242ac1c0002level0_row10\" class=\"row_heading level0 row10\" >15</th>\n",
              "                        <th id=\"T_3d2304a6_5607_11eb_8e78_0242ac1c0002level1_row10\" class=\"row_heading level1 row10\" >11</th>\n",
              "                        <td id=\"T_3d2304a6_5607_11eb_8e78_0242ac1c0002row10_col0\" class=\"data row10 col0\" ><a target=\"_blank\" href=\"https://id.wikipedia.org/wiki/Romeo_dan_Julia\">https://id.wikipedia.org/wiki/Romeo_dan_Julia</a></td>\n",
              "                        <td id=\"T_3d2304a6_5607_11eb_8e78_0242ac1c0002row10_col1\" class=\"data row10 col1\" >1.396792</td>\n",
              "            </tr>\n",
              "            <tr>\n",
              "                        <th id=\"T_3d2304a6_5607_11eb_8e78_0242ac1c0002level0_row11\" class=\"row_heading level0 row11\" >12</th>\n",
              "                        <th id=\"T_3d2304a6_5607_11eb_8e78_0242ac1c0002level1_row11\" class=\"row_heading level1 row11\" >12</th>\n",
              "                        <td id=\"T_3d2304a6_5607_11eb_8e78_0242ac1c0002row11_col0\" class=\"data row11 col0\" ><a target=\"_blank\" href=\"https://rusnanianwar.com/2020/06/17/cantik-itu-luka-sebuah-review/\">https://rusnanianwar.com/2020/06/17/cantik-itu-luka-sebuah-review/</a></td>\n",
              "                        <td id=\"T_3d2304a6_5607_11eb_8e78_0242ac1c0002row11_col1\" class=\"data row11 col1\" >1.400290</td>\n",
              "            </tr>\n",
              "            <tr>\n",
              "                        <th id=\"T_3d2304a6_5607_11eb_8e78_0242ac1c0002level0_row12\" class=\"row_heading level0 row12\" >5</th>\n",
              "                        <th id=\"T_3d2304a6_5607_11eb_8e78_0242ac1c0002level1_row12\" class=\"row_heading level1 row12\" >13</th>\n",
              "                        <td id=\"T_3d2304a6_5607_11eb_8e78_0242ac1c0002row12_col0\" class=\"data row12 col0\" ><a target=\"_blank\" href=\"http://bukureview.com/romance/review-buku-novel-ps-still-love-oleh-jenny-han/\">http://bukureview.com/romance/review-buku-novel-ps-still-love-oleh-jenny-han/</a></td>\n",
              "                        <td id=\"T_3d2304a6_5607_11eb_8e78_0242ac1c0002row12_col1\" class=\"data row12 col1\" >1.404756</td>\n",
              "            </tr>\n",
              "            <tr>\n",
              "                        <th id=\"T_3d2304a6_5607_11eb_8e78_0242ac1c0002level0_row13\" class=\"row_heading level0 row13\" >7</th>\n",
              "                        <th id=\"T_3d2304a6_5607_11eb_8e78_0242ac1c0002level1_row13\" class=\"row_heading level1 row13\" >14</th>\n",
              "                        <td id=\"T_3d2304a6_5607_11eb_8e78_0242ac1c0002row13_col0\" class=\"data row13 col0\" ><a target=\"_blank\" href=\"https://id.wikipedia.org/wiki/Tiga_Sandera_Terakhir\">https://id.wikipedia.org/wiki/Tiga_Sandera_Terakhir</a></td>\n",
              "                        <td id=\"T_3d2304a6_5607_11eb_8e78_0242ac1c0002row13_col1\" class=\"data row13 col1\" >1.409491</td>\n",
              "            </tr>\n",
              "            <tr>\n",
              "                        <th id=\"T_3d2304a6_5607_11eb_8e78_0242ac1c0002level0_row14\" class=\"row_heading level0 row14\" >1</th>\n",
              "                        <th id=\"T_3d2304a6_5607_11eb_8e78_0242ac1c0002level1_row14\" class=\"row_heading level1 row14\" >15</th>\n",
              "                        <td id=\"T_3d2304a6_5607_11eb_8e78_0242ac1c0002row14_col0\" class=\"data row14 col0\" ><a target=\"_blank\" href=\"https://id.wikipedia.org/wiki/Matahari_(novel)\">https://id.wikipedia.org/wiki/Matahari_(novel)</a></td>\n",
              "                        <td id=\"T_3d2304a6_5607_11eb_8e78_0242ac1c0002row14_col1\" class=\"data row14 col1\" >1.414214</td>\n",
              "            </tr>\n",
              "    </tbody></table>"
            ],
            "text/plain": [
              "<pandas.io.formats.style.Styler at 0x7ff828f3d128>"
            ]
          },
          "metadata": {
            "tags": []
          },
          "execution_count": 21
        }
      ]
    },
    {
      "cell_type": "markdown",
      "metadata": {
        "id": "MpSie499gufD"
      },
      "source": [
        "**Cosine Similarity**"
      ]
    },
    {
      "cell_type": "code",
      "metadata": {
        "id": "Iplkl4DDVhcJ"
      },
      "source": [
        "def cos_similarity(search_query_weights, tfidf_weights_matrix):\n",
        "\t\n",
        "\tcos_dist = cosine_similarity(search_query_weights, tfidf_weights_matrix)\n",
        "\tsimilarity_list = cos_dist[0]\n",
        "  \n",
        "\treturn similarity_list"
      ],
      "execution_count": null,
      "outputs": []
    },
    {
      "cell_type": "code",
      "metadata": {
        "colab": {
          "base_uri": "https://localhost:8080/"
        },
        "id": "2iIxcZ8KhJAX",
        "outputId": "9593298b-dfe3-445e-bfee-9e609a1d0e6a"
      },
      "source": [
        "similarity_list = cos_similarity(key, matriks)\n",
        "#similarity_list.sort()\n",
        "print(similarity_list)"
      ],
      "execution_count": null,
      "outputs": [
        {
          "output_type": "stream",
          "text": [
            "[0.         0.04028796 0.10713948 0.05696825 0.01333027 0.09105835\n",
            " 0.00666763 0.04616075 0.06353078 0.04209477 0.04550505 0.01959456\n",
            " 0.04638153 0.10913558 0.02448549]\n"
          ],
          "name": "stdout"
        }
      ]
    },
    {
      "cell_type": "code",
      "metadata": {
        "colab": {
          "base_uri": "https://localhost:8080/",
          "height": 197
        },
        "id": "mY4jI1PGl4hO",
        "outputId": "dc2295d3-e8be-4039-c393-1a17f8751624"
      },
      "source": [
        "df_cosine = df[['URL']]\n",
        "#df_cosine.drop('Document', inplace=True, axis=1)\n",
        "df_cosine.index = np.arange(1, len(df_cosine)+1)\n",
        "df_cosine.head()"
      ],
      "execution_count": null,
      "outputs": [
        {
          "output_type": "execute_result",
          "data": {
            "text/html": [
              "<div>\n",
              "<style scoped>\n",
              "    .dataframe tbody tr th:only-of-type {\n",
              "        vertical-align: middle;\n",
              "    }\n",
              "\n",
              "    .dataframe tbody tr th {\n",
              "        vertical-align: top;\n",
              "    }\n",
              "\n",
              "    .dataframe thead th {\n",
              "        text-align: right;\n",
              "    }\n",
              "</style>\n",
              "<table border=\"1\" class=\"dataframe\">\n",
              "  <thead>\n",
              "    <tr style=\"text-align: right;\">\n",
              "      <th></th>\n",
              "      <th>URL</th>\n",
              "    </tr>\n",
              "  </thead>\n",
              "  <tbody>\n",
              "    <tr>\n",
              "      <th>1</th>\n",
              "      <td>https://id.wikipedia.org/wiki/Matahari_(novel)</td>\n",
              "    </tr>\n",
              "    <tr>\n",
              "      <th>2</th>\n",
              "      <td>https://id.wikipedia.org/wiki/Kisah_Tanah_Jawa</td>\n",
              "    </tr>\n",
              "    <tr>\n",
              "      <th>3</th>\n",
              "      <td>http://bukureview.com/romance/review-buku-nove...</td>\n",
              "    </tr>\n",
              "    <tr>\n",
              "      <th>4</th>\n",
              "      <td>https://id.wikipedia.org/wiki/Manusia_Setengah...</td>\n",
              "    </tr>\n",
              "    <tr>\n",
              "      <th>5</th>\n",
              "      <td>http://bukureview.com/romance/review-buku-nove...</td>\n",
              "    </tr>\n",
              "  </tbody>\n",
              "</table>\n",
              "</div>"
            ],
            "text/plain": [
              "                                                 URL\n",
              "1     https://id.wikipedia.org/wiki/Matahari_(novel)\n",
              "2     https://id.wikipedia.org/wiki/Kisah_Tanah_Jawa\n",
              "3  http://bukureview.com/romance/review-buku-nove...\n",
              "4  https://id.wikipedia.org/wiki/Manusia_Setengah...\n",
              "5  http://bukureview.com/romance/review-buku-nove..."
            ]
          },
          "metadata": {
            "tags": []
          },
          "execution_count": 24
        }
      ]
    },
    {
      "cell_type": "code",
      "metadata": {
        "colab": {
          "base_uri": "https://localhost:8080/",
          "height": 227
        },
        "id": "t-nvEM70hLo7",
        "outputId": "c7d87398-91f1-4820-af61-41151c1bc0a6"
      },
      "source": [
        "df_cosine['Similarity Score'] = similarity_list\n",
        "#df_cosine['Query'] = 'kisah romantis tokoh remaja sekolah saling jatuh cinta'\n",
        "#df_cosine.rename({'Document': 'Comparing Sentence'}, axis=1, inplace=True)\n",
        "df_cosine.index.name = 'Dokumen ke-'\n",
        "df_cosine.head()"
      ],
      "execution_count": null,
      "outputs": [
        {
          "output_type": "execute_result",
          "data": {
            "text/html": [
              "<div>\n",
              "<style scoped>\n",
              "    .dataframe tbody tr th:only-of-type {\n",
              "        vertical-align: middle;\n",
              "    }\n",
              "\n",
              "    .dataframe tbody tr th {\n",
              "        vertical-align: top;\n",
              "    }\n",
              "\n",
              "    .dataframe thead th {\n",
              "        text-align: right;\n",
              "    }\n",
              "</style>\n",
              "<table border=\"1\" class=\"dataframe\">\n",
              "  <thead>\n",
              "    <tr style=\"text-align: right;\">\n",
              "      <th></th>\n",
              "      <th>URL</th>\n",
              "      <th>Similarity Score</th>\n",
              "    </tr>\n",
              "    <tr>\n",
              "      <th>Dokumen ke-</th>\n",
              "      <th></th>\n",
              "      <th></th>\n",
              "    </tr>\n",
              "  </thead>\n",
              "  <tbody>\n",
              "    <tr>\n",
              "      <th>1</th>\n",
              "      <td>https://id.wikipedia.org/wiki/Matahari_(novel)</td>\n",
              "      <td>0.000000</td>\n",
              "    </tr>\n",
              "    <tr>\n",
              "      <th>2</th>\n",
              "      <td>https://id.wikipedia.org/wiki/Kisah_Tanah_Jawa</td>\n",
              "      <td>0.040288</td>\n",
              "    </tr>\n",
              "    <tr>\n",
              "      <th>3</th>\n",
              "      <td>http://bukureview.com/romance/review-buku-nove...</td>\n",
              "      <td>0.107139</td>\n",
              "    </tr>\n",
              "    <tr>\n",
              "      <th>4</th>\n",
              "      <td>https://id.wikipedia.org/wiki/Manusia_Setengah...</td>\n",
              "      <td>0.056968</td>\n",
              "    </tr>\n",
              "    <tr>\n",
              "      <th>5</th>\n",
              "      <td>http://bukureview.com/romance/review-buku-nove...</td>\n",
              "      <td>0.013330</td>\n",
              "    </tr>\n",
              "  </tbody>\n",
              "</table>\n",
              "</div>"
            ],
            "text/plain": [
              "                                                           URL  Similarity Score\n",
              "Dokumen ke-                                                                     \n",
              "1               https://id.wikipedia.org/wiki/Matahari_(novel)          0.000000\n",
              "2               https://id.wikipedia.org/wiki/Kisah_Tanah_Jawa          0.040288\n",
              "3            http://bukureview.com/romance/review-buku-nove...          0.107139\n",
              "4            https://id.wikipedia.org/wiki/Manusia_Setengah...          0.056968\n",
              "5            http://bukureview.com/romance/review-buku-nove...          0.013330"
            ]
          },
          "metadata": {
            "tags": []
          },
          "execution_count": 25
        }
      ]
    },
    {
      "cell_type": "code",
      "metadata": {
        "colab": {
          "base_uri": "https://localhost:8080/",
          "height": 227
        },
        "id": "NlWuNwTvt3gG",
        "outputId": "86dfcf60-d62a-47d9-a744-cd9bef39ad3e"
      },
      "source": [
        "df_cosine = df_cosine.sort_values(by=['Similarity Score'], ascending=False)\n",
        "df_cosine['Rank'] = list(range(1, 16))\n",
        "df_cosine = df_cosine.set_index('Rank', append=True)\n",
        "df_cosine.head()"
      ],
      "execution_count": null,
      "outputs": [
        {
          "output_type": "execute_result",
          "data": {
            "text/html": [
              "<div>\n",
              "<style scoped>\n",
              "    .dataframe tbody tr th:only-of-type {\n",
              "        vertical-align: middle;\n",
              "    }\n",
              "\n",
              "    .dataframe tbody tr th {\n",
              "        vertical-align: top;\n",
              "    }\n",
              "\n",
              "    .dataframe thead th {\n",
              "        text-align: right;\n",
              "    }\n",
              "</style>\n",
              "<table border=\"1\" class=\"dataframe\">\n",
              "  <thead>\n",
              "    <tr style=\"text-align: right;\">\n",
              "      <th></th>\n",
              "      <th></th>\n",
              "      <th>URL</th>\n",
              "      <th>Similarity Score</th>\n",
              "    </tr>\n",
              "    <tr>\n",
              "      <th>Dokumen ke-</th>\n",
              "      <th>Rank</th>\n",
              "      <th></th>\n",
              "      <th></th>\n",
              "    </tr>\n",
              "  </thead>\n",
              "  <tbody>\n",
              "    <tr>\n",
              "      <th>14</th>\n",
              "      <th>1</th>\n",
              "      <td>http://bukureview.com/novel/review-buku-novel-...</td>\n",
              "      <td>0.109136</td>\n",
              "    </tr>\n",
              "    <tr>\n",
              "      <th>3</th>\n",
              "      <th>2</th>\n",
              "      <td>http://bukureview.com/romance/review-buku-nove...</td>\n",
              "      <td>0.107139</td>\n",
              "    </tr>\n",
              "    <tr>\n",
              "      <th>6</th>\n",
              "      <th>3</th>\n",
              "      <td>http://bukureview.com/novel/review-buku-novel-...</td>\n",
              "      <td>0.091058</td>\n",
              "    </tr>\n",
              "    <tr>\n",
              "      <th>9</th>\n",
              "      <th>4</th>\n",
              "      <td>http://bukureview.com/novel/review-buku-novel-...</td>\n",
              "      <td>0.063531</td>\n",
              "    </tr>\n",
              "    <tr>\n",
              "      <th>4</th>\n",
              "      <th>5</th>\n",
              "      <td>https://id.wikipedia.org/wiki/Manusia_Setengah...</td>\n",
              "      <td>0.056968</td>\n",
              "    </tr>\n",
              "  </tbody>\n",
              "</table>\n",
              "</div>"
            ],
            "text/plain": [
              "                                                                URL  Similarity Score\n",
              "Dokumen ke- Rank                                                                     \n",
              "14          1     http://bukureview.com/novel/review-buku-novel-...          0.109136\n",
              "3           2     http://bukureview.com/romance/review-buku-nove...          0.107139\n",
              "6           3     http://bukureview.com/novel/review-buku-novel-...          0.091058\n",
              "9           4     http://bukureview.com/novel/review-buku-novel-...          0.063531\n",
              "4           5     https://id.wikipedia.org/wiki/Manusia_Setengah...          0.056968"
            ]
          },
          "metadata": {
            "tags": []
          },
          "execution_count": 26
        }
      ]
    },
    {
      "cell_type": "code",
      "metadata": {
        "colab": {
          "base_uri": "https://localhost:8080/",
          "height": 320
        },
        "id": "ChHHnlwhhPgq",
        "outputId": "a64ef259-feb5-4e36-cb0a-29180b1dd6bf"
      },
      "source": [
        "df_cosine.style.format({'URL': make_clickable})"
      ],
      "execution_count": null,
      "outputs": [
        {
          "output_type": "execute_result",
          "data": {
            "text/html": [
              "<style  type=\"text/css\" >\n",
              "</style><table id=\"T_76d67138_5607_11eb_8e78_0242ac1c0002\" ><thead>    <tr>        <th class=\"blank\" ></th>        <th class=\"blank level0\" ></th>        <th class=\"col_heading level0 col0\" >URL</th>        <th class=\"col_heading level0 col1\" >Similarity Score</th>    </tr>    <tr>        <th class=\"index_name level0\" >Dokumen ke-</th>        <th class=\"index_name level1\" >Rank</th>        <th class=\"blank\" ></th>        <th class=\"blank\" ></th>    </tr></thead><tbody>\n",
              "                <tr>\n",
              "                        <th id=\"T_76d67138_5607_11eb_8e78_0242ac1c0002level0_row0\" class=\"row_heading level0 row0\" >14</th>\n",
              "                        <th id=\"T_76d67138_5607_11eb_8e78_0242ac1c0002level1_row0\" class=\"row_heading level1 row0\" >1</th>\n",
              "                        <td id=\"T_76d67138_5607_11eb_8e78_0242ac1c0002row0_col0\" class=\"data row0 col0\" ><a target=\"_blank\" href=\"http://bukureview.com/novel/review-buku-novel-sun-also-star-oleh-nicola-yoon/\">http://bukureview.com/novel/review-buku-novel-sun-also-star-oleh-nicola-yoon/</a></td>\n",
              "                        <td id=\"T_76d67138_5607_11eb_8e78_0242ac1c0002row0_col1\" class=\"data row0 col1\" >0.109136</td>\n",
              "            </tr>\n",
              "            <tr>\n",
              "                        <th id=\"T_76d67138_5607_11eb_8e78_0242ac1c0002level0_row1\" class=\"row_heading level0 row1\" >3</th>\n",
              "                        <th id=\"T_76d67138_5607_11eb_8e78_0242ac1c0002level1_row1\" class=\"row_heading level1 row1\" >2</th>\n",
              "                        <td id=\"T_76d67138_5607_11eb_8e78_0242ac1c0002row1_col0\" class=\"data row1 col0\" ><a target=\"_blank\" href=\"http://bukureview.com/romance/review-buku-novel-always-and-forever-oleh-jenny-han/\">http://bukureview.com/romance/review-buku-novel-always-and-forever-oleh-jenny-han/</a></td>\n",
              "                        <td id=\"T_76d67138_5607_11eb_8e78_0242ac1c0002row1_col1\" class=\"data row1 col1\" >0.107139</td>\n",
              "            </tr>\n",
              "            <tr>\n",
              "                        <th id=\"T_76d67138_5607_11eb_8e78_0242ac1c0002level0_row2\" class=\"row_heading level0 row2\" >6</th>\n",
              "                        <th id=\"T_76d67138_5607_11eb_8e78_0242ac1c0002level1_row2\" class=\"row_heading level1 row2\" >3</th>\n",
              "                        <td id=\"T_76d67138_5607_11eb_8e78_0242ac1c0002row2_col0\" class=\"data row2 col0\" ><a target=\"_blank\" href=\"http://bukureview.com/novel/review-buku-novel-everything-everything-oleh-nicola-yoon/\">http://bukureview.com/novel/review-buku-novel-everything-everything-oleh-nicola-yoon/</a></td>\n",
              "                        <td id=\"T_76d67138_5607_11eb_8e78_0242ac1c0002row2_col1\" class=\"data row2 col1\" >0.091058</td>\n",
              "            </tr>\n",
              "            <tr>\n",
              "                        <th id=\"T_76d67138_5607_11eb_8e78_0242ac1c0002level0_row3\" class=\"row_heading level0 row3\" >9</th>\n",
              "                        <th id=\"T_76d67138_5607_11eb_8e78_0242ac1c0002level1_row3\" class=\"row_heading level1 row3\" >4</th>\n",
              "                        <td id=\"T_76d67138_5607_11eb_8e78_0242ac1c0002row3_col0\" class=\"data row3 col0\" ><a target=\"_blank\" href=\"http://bukureview.com/novel/review-buku-novel-lovely-wife/\">http://bukureview.com/novel/review-buku-novel-lovely-wife/</a></td>\n",
              "                        <td id=\"T_76d67138_5607_11eb_8e78_0242ac1c0002row3_col1\" class=\"data row3 col1\" >0.063531</td>\n",
              "            </tr>\n",
              "            <tr>\n",
              "                        <th id=\"T_76d67138_5607_11eb_8e78_0242ac1c0002level0_row4\" class=\"row_heading level0 row4\" >4</th>\n",
              "                        <th id=\"T_76d67138_5607_11eb_8e78_0242ac1c0002level1_row4\" class=\"row_heading level1 row4\" >5</th>\n",
              "                        <td id=\"T_76d67138_5607_11eb_8e78_0242ac1c0002row4_col0\" class=\"data row4 col0\" ><a target=\"_blank\" href=\"https://id.wikipedia.org/wiki/Manusia_Setengah_Salmon\">https://id.wikipedia.org/wiki/Manusia_Setengah_Salmon</a></td>\n",
              "                        <td id=\"T_76d67138_5607_11eb_8e78_0242ac1c0002row4_col1\" class=\"data row4 col1\" >0.056968</td>\n",
              "            </tr>\n",
              "            <tr>\n",
              "                        <th id=\"T_76d67138_5607_11eb_8e78_0242ac1c0002level0_row5\" class=\"row_heading level0 row5\" >13</th>\n",
              "                        <th id=\"T_76d67138_5607_11eb_8e78_0242ac1c0002level1_row5\" class=\"row_heading level1 row5\" >6</th>\n",
              "                        <td id=\"T_76d67138_5607_11eb_8e78_0242ac1c0002row5_col0\" class=\"data row5 col0\" ><a target=\"_blank\" href=\"https://id.wikipedia.org/wiki/Bukan_Pasar_Malam\">https://id.wikipedia.org/wiki/Bukan_Pasar_Malam</a></td>\n",
              "                        <td id=\"T_76d67138_5607_11eb_8e78_0242ac1c0002row5_col1\" class=\"data row5 col1\" >0.046382</td>\n",
              "            </tr>\n",
              "            <tr>\n",
              "                        <th id=\"T_76d67138_5607_11eb_8e78_0242ac1c0002level0_row6\" class=\"row_heading level0 row6\" >8</th>\n",
              "                        <th id=\"T_76d67138_5607_11eb_8e78_0242ac1c0002level1_row6\" class=\"row_heading level1 row6\" >7</th>\n",
              "                        <td id=\"T_76d67138_5607_11eb_8e78_0242ac1c0002row6_col0\" class=\"data row6 col0\" ><a target=\"_blank\" href=\"http://bukureview.com/novel/review-buku-novel-god-game-oleh-danny-tobey/\">http://bukureview.com/novel/review-buku-novel-god-game-oleh-danny-tobey/</a></td>\n",
              "                        <td id=\"T_76d67138_5607_11eb_8e78_0242ac1c0002row6_col1\" class=\"data row6 col1\" >0.046161</td>\n",
              "            </tr>\n",
              "            <tr>\n",
              "                        <th id=\"T_76d67138_5607_11eb_8e78_0242ac1c0002level0_row7\" class=\"row_heading level0 row7\" >11</th>\n",
              "                        <th id=\"T_76d67138_5607_11eb_8e78_0242ac1c0002level1_row7\" class=\"row_heading level1 row7\" >8</th>\n",
              "                        <td id=\"T_76d67138_5607_11eb_8e78_0242ac1c0002row7_col0\" class=\"data row7 col0\" ><a target=\"_blank\" href=\"https://id.wikipedia.org/wiki/Divergent\">https://id.wikipedia.org/wiki/Divergent</a></td>\n",
              "                        <td id=\"T_76d67138_5607_11eb_8e78_0242ac1c0002row7_col1\" class=\"data row7 col1\" >0.045505</td>\n",
              "            </tr>\n",
              "            <tr>\n",
              "                        <th id=\"T_76d67138_5607_11eb_8e78_0242ac1c0002level0_row8\" class=\"row_heading level0 row8\" >10</th>\n",
              "                        <th id=\"T_76d67138_5607_11eb_8e78_0242ac1c0002level1_row8\" class=\"row_heading level1 row8\" >9</th>\n",
              "                        <td id=\"T_76d67138_5607_11eb_8e78_0242ac1c0002row8_col0\" class=\"data row8 col0\" ><a target=\"_blank\" href=\"http://bukureview.com/novel/review-buku-novel-love-split-world/\">http://bukureview.com/novel/review-buku-novel-love-split-world/</a></td>\n",
              "                        <td id=\"T_76d67138_5607_11eb_8e78_0242ac1c0002row8_col1\" class=\"data row8 col1\" >0.042095</td>\n",
              "            </tr>\n",
              "            <tr>\n",
              "                        <th id=\"T_76d67138_5607_11eb_8e78_0242ac1c0002level0_row9\" class=\"row_heading level0 row9\" >2</th>\n",
              "                        <th id=\"T_76d67138_5607_11eb_8e78_0242ac1c0002level1_row9\" class=\"row_heading level1 row9\" >10</th>\n",
              "                        <td id=\"T_76d67138_5607_11eb_8e78_0242ac1c0002row9_col0\" class=\"data row9 col0\" ><a target=\"_blank\" href=\"https://id.wikipedia.org/wiki/Kisah_Tanah_Jawa\">https://id.wikipedia.org/wiki/Kisah_Tanah_Jawa</a></td>\n",
              "                        <td id=\"T_76d67138_5607_11eb_8e78_0242ac1c0002row9_col1\" class=\"data row9 col1\" >0.040288</td>\n",
              "            </tr>\n",
              "            <tr>\n",
              "                        <th id=\"T_76d67138_5607_11eb_8e78_0242ac1c0002level0_row10\" class=\"row_heading level0 row10\" >15</th>\n",
              "                        <th id=\"T_76d67138_5607_11eb_8e78_0242ac1c0002level1_row10\" class=\"row_heading level1 row10\" >11</th>\n",
              "                        <td id=\"T_76d67138_5607_11eb_8e78_0242ac1c0002row10_col0\" class=\"data row10 col0\" ><a target=\"_blank\" href=\"https://id.wikipedia.org/wiki/Romeo_dan_Julia\">https://id.wikipedia.org/wiki/Romeo_dan_Julia</a></td>\n",
              "                        <td id=\"T_76d67138_5607_11eb_8e78_0242ac1c0002row10_col1\" class=\"data row10 col1\" >0.024485</td>\n",
              "            </tr>\n",
              "            <tr>\n",
              "                        <th id=\"T_76d67138_5607_11eb_8e78_0242ac1c0002level0_row11\" class=\"row_heading level0 row11\" >12</th>\n",
              "                        <th id=\"T_76d67138_5607_11eb_8e78_0242ac1c0002level1_row11\" class=\"row_heading level1 row11\" >12</th>\n",
              "                        <td id=\"T_76d67138_5607_11eb_8e78_0242ac1c0002row11_col0\" class=\"data row11 col0\" ><a target=\"_blank\" href=\"https://rusnanianwar.com/2020/06/17/cantik-itu-luka-sebuah-review/\">https://rusnanianwar.com/2020/06/17/cantik-itu-luka-sebuah-review/</a></td>\n",
              "                        <td id=\"T_76d67138_5607_11eb_8e78_0242ac1c0002row11_col1\" class=\"data row11 col1\" >0.019595</td>\n",
              "            </tr>\n",
              "            <tr>\n",
              "                        <th id=\"T_76d67138_5607_11eb_8e78_0242ac1c0002level0_row12\" class=\"row_heading level0 row12\" >5</th>\n",
              "                        <th id=\"T_76d67138_5607_11eb_8e78_0242ac1c0002level1_row12\" class=\"row_heading level1 row12\" >13</th>\n",
              "                        <td id=\"T_76d67138_5607_11eb_8e78_0242ac1c0002row12_col0\" class=\"data row12 col0\" ><a target=\"_blank\" href=\"http://bukureview.com/romance/review-buku-novel-ps-still-love-oleh-jenny-han/\">http://bukureview.com/romance/review-buku-novel-ps-still-love-oleh-jenny-han/</a></td>\n",
              "                        <td id=\"T_76d67138_5607_11eb_8e78_0242ac1c0002row12_col1\" class=\"data row12 col1\" >0.013330</td>\n",
              "            </tr>\n",
              "            <tr>\n",
              "                        <th id=\"T_76d67138_5607_11eb_8e78_0242ac1c0002level0_row13\" class=\"row_heading level0 row13\" >7</th>\n",
              "                        <th id=\"T_76d67138_5607_11eb_8e78_0242ac1c0002level1_row13\" class=\"row_heading level1 row13\" >14</th>\n",
              "                        <td id=\"T_76d67138_5607_11eb_8e78_0242ac1c0002row13_col0\" class=\"data row13 col0\" ><a target=\"_blank\" href=\"https://id.wikipedia.org/wiki/Tiga_Sandera_Terakhir\">https://id.wikipedia.org/wiki/Tiga_Sandera_Terakhir</a></td>\n",
              "                        <td id=\"T_76d67138_5607_11eb_8e78_0242ac1c0002row13_col1\" class=\"data row13 col1\" >0.006668</td>\n",
              "            </tr>\n",
              "            <tr>\n",
              "                        <th id=\"T_76d67138_5607_11eb_8e78_0242ac1c0002level0_row14\" class=\"row_heading level0 row14\" >1</th>\n",
              "                        <th id=\"T_76d67138_5607_11eb_8e78_0242ac1c0002level1_row14\" class=\"row_heading level1 row14\" >15</th>\n",
              "                        <td id=\"T_76d67138_5607_11eb_8e78_0242ac1c0002row14_col0\" class=\"data row14 col0\" ><a target=\"_blank\" href=\"https://id.wikipedia.org/wiki/Matahari_(novel)\">https://id.wikipedia.org/wiki/Matahari_(novel)</a></td>\n",
              "                        <td id=\"T_76d67138_5607_11eb_8e78_0242ac1c0002row14_col1\" class=\"data row14 col1\" >0.000000</td>\n",
              "            </tr>\n",
              "    </tbody></table>"
            ],
            "text/plain": [
              "<pandas.io.formats.style.Styler at 0x7ff83e5078d0>"
            ]
          },
          "metadata": {
            "tags": []
          },
          "execution_count": 27
        }
      ]
    },
    {
      "cell_type": "code",
      "metadata": {
        "id": "S4eMlKrMmFNe"
      },
      "source": [
        ""
      ],
      "execution_count": null,
      "outputs": []
    }
  ]
}